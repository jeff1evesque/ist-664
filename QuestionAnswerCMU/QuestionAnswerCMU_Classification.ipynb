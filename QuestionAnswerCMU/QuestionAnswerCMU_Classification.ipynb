{
 "cells": [
  {
   "cell_type": "code",
   "execution_count": 132,
   "metadata": {},
   "outputs": [],
   "source": [
    "import pandas as pd\n",
    "import numpy as np\n",
    "from nltk import tag, word_tokenize\n",
    "from time import time\n",
    "from os import path, makedirs\n",
    "from sklearn.model_selection import train_test_split\n",
    "from sklearn.ensemble import RandomForestClassifier\n",
    "from sklearn.metrics import accuracy_score, confusion_matrix\n",
    "from sklearn.externals import joblib"
   ]
  },
  {
   "cell_type": "code",
   "execution_count": 2,
   "metadata": {},
   "outputs": [],
   "source": [
    "## load data\n",
    "df = pd.read_csv('data/S10/question_answer_pairs.txt', sep='\\\\t', engine='python').dropna()\n",
    "\n",
    "questions = df['Question']\n",
    "answers = df['Answer']"
   ]
  },
  {
   "cell_type": "code",
   "execution_count": 79,
   "metadata": {},
   "outputs": [],
   "source": [
    "##\n",
    "## categorization of penn-tree\n",
    "##\n",
    "## - https://www.ling.upenn.edu/courses/Fall_2003/ling001/penn_treebank_pos.html\n",
    "##\n",
    "penn_scale = {\n",
    "    'CC': 1,\n",
    "    'CD': 2,\n",
    "    'DT': 3, \n",
    "    'EX': 4,\n",
    "    'FW': 5,\n",
    "    'IN': 6,\n",
    "    'JJ': 7,\n",
    "    'JJR': 8,\n",
    "    'JJS': 9,\n",
    "    'LS': 10,\n",
    "    'MD': 11,\n",
    "    'NN': 12,\n",
    "    'NNS': 13,\n",
    "    'NNP': 14,\n",
    "    'NNPS': 15,\n",
    "    'PDT': 16,\n",
    "    'POS': 17,\n",
    "    'PRP': 18,\n",
    "    'PRP$': 19,\n",
    "    'RB': 20,\n",
    "    'RBR': 21,\n",
    "    'RBS': 22,\n",
    "    'RP': 23,\n",
    "    'SYM': 24,\n",
    "    'TO': 25,\n",
    "    'UH': 26,\n",
    "    'VB': 27,\n",
    "    'VBD': 28,\n",
    "    'VBG': 29,\n",
    "    'VBN': 30,\n",
    "    'VBP': 31,\n",
    "    'VBZ': 32,\n",
    "    'WDT': 33,\n",
    "    'WP': 34,\n",
    "    'WP$': 35,\n",
    "    'WRB': 36\n",
    "}\n",
    "\n",
    "def tokenizer(sentence):\n",
    "    '''\n",
    "\n",
    "    penn-tree: tokenize + parts of speech\n",
    "\n",
    "    '''\n",
    "\n",
    "    sent = word_tokenize(sentence)\n",
    "    pos = tag.pos_tag(sent)\n",
    "    return([x[1] for x in pos if x[1] and x[1] in penn_scale])\n",
    "\n",
    "def replace(list, dictionary):\n",
    "    '''\n",
    "\n",
    "    replace list item with corresponding dict value\n",
    "\n",
    "    '''\n",
    "\n",
    "    return [dictionary.get(item, item) for item in list]"
   ]
  },
  {
   "cell_type": "code",
   "execution_count": 80,
   "metadata": {},
   "outputs": [],
   "source": [
    "##\n",
    "## order of appending 'pos' (1) must match the order of appending\n",
    "##     the 'sent_type' (2) sentence type.\n",
    "##\n",
    "\n",
    "## (1) pos: combine questions + answers\n",
    "questions_pos = questions.apply(tokenizer)\n",
    "questions_unique = [replace(list(x), penn_scale)  for x in set(tuple(x) for x in questions_pos)]\n",
    "\n",
    "answers_pos = answers.apply(tokenizer)\n",
    "answers_unique = [replace(list(x), penn_scale) for x in set(tuple(x) for x in answers_pos)]\n",
    "\n",
    "## append data\n",
    "pos = answers_unique + questions_unique\n",
    "\n",
    "## (2) sentence type\n",
    "sent_type = []\n",
    "for i in range(len(questions_unique)):\n",
    "    sent_type.append('0')\n",
    "\n",
    "for j in range(len(answers_unique)):\n",
    "    sent_type.append('1')"
   ]
  },
  {
   "cell_type": "code",
   "execution_count": 81,
   "metadata": {},
   "outputs": [
    {
     "name": "stdout",
     "output_type": "stream",
     "text": [
      "X_train: (836,), y_train: (836,)\n",
      "X_test: (209,), y_test: (209,)\n"
     ]
    }
   ],
   "source": [
    "## adjusted dataset\n",
    "df_adjusted = pd.DataFrame({\n",
    "    'pos': pos,\n",
    "    'type': sent_type\n",
    "})\n",
    "\n",
    "## train + test\n",
    "X_train, X_test, y_train, y_test = train_test_split(\n",
    "    df_adjusted['pos'],\n",
    "    df_adjusted['type'],\n",
    "    test_size=0.2\n",
    ")\n",
    "\n",
    "## print shape\n",
    "print('X_train: {X}, y_train: {y}'.format(\n",
    "    X=X_train.shape,\n",
    "    y=y_train.shape\n",
    "))\n",
    "\n",
    "print('X_test: {X}, y_test: {y}'.format(\n",
    "    X=X_test.shape,\n",
    "    y=y_test.shape\n",
    "))"
   ]
  },
  {
   "cell_type": "code",
   "execution_count": 82,
   "metadata": {},
   "outputs": [
    {
     "data": {
      "text/plain": [
       "323                                [6]\n",
       "835     [32, 14, 14, 14, 3, 9, 12, 12]\n",
       "610         [36, 32, 3, 12, 6, 14, 14]\n",
       "538       [6, 36, 7, 32, 3, 7, 12, 12]\n",
       "282                    [6, 12, 25, 27]\n",
       "22                      [30, 6, 7, 12]\n",
       "424    [4, 31, 20, 3, 2, 2, 7, 13, 31]\n",
       "114       [3, 20, 3, 13, 31, 6, 7, 12]\n",
       "933                 [14, 14, 28, 6, 2]\n",
       "50       [3, 2, 13, 31, 14, 14, 1, 14]\n",
       "Name: pos, dtype: object"
      ]
     },
     "execution_count": 82,
     "metadata": {},
     "output_type": "execute_result"
    }
   ],
   "source": [
    "X_train.head(10)"
   ]
  },
  {
   "cell_type": "code",
   "execution_count": 83,
   "metadata": {},
   "outputs": [
    {
     "data": {
      "text/plain": [
       "323    0\n",
       "835    1\n",
       "610    1\n",
       "538    0\n",
       "282    0\n",
       "22     0\n",
       "424    0\n",
       "114    0\n",
       "933    1\n",
       "50     0\n",
       "Name: type, dtype: object"
      ]
     },
     "execution_count": 83,
     "metadata": {},
     "output_type": "execute_result"
    }
   ],
   "source": [
    "y_train.head(10)"
   ]
  },
  {
   "cell_type": "code",
   "execution_count": 103,
   "metadata": {},
   "outputs": [],
   "source": [
    "stop_gap = 35\n",
    "\n",
    "## train: ensure nested lists same length\n",
    "length = len(sorted(X_train, key=len, reverse=True)[0])\n",
    "X_train_final=np.array([xi+[stop_gap]*(length-len(xi)) for xi in X_train])\n",
    "X_train_final=pd.DataFrame(X_train_final)\n",
    "\n",
    "## test: ensure nested lists same length\n",
    "length = len(sorted(X_test, key=len, reverse=True)[0])\n",
    "X_test_final=np.array([xi+[stop_gap]*(length-len(xi)) for xi in X_test])\n",
    "X_test_final=pd.DataFrame(X_test_final)\n",
    "\n",
    "X_test_final['filler-1'] = stop_gap\n",
    "X_test_final['filler-2'] = stop_gap"
   ]
  },
  {
   "cell_type": "code",
   "execution_count": 104,
   "metadata": {},
   "outputs": [
    {
     "name": "stdout",
     "output_type": "stream",
     "text": [
      "     0   1   2   3   4   5   6   7   8   9  ...  24  25  26  27  28  29  30  \\\n",
      "0     6  35  35  35  35  35  35  35  35  35 ...  35  35  35  35  35  35  35   \n",
      "1    32  14  14  14   3   9  12  12  35  35 ...  35  35  35  35  35  35  35   \n",
      "2    36  32   3  12   6  14  14  35  35  35 ...  35  35  35  35  35  35  35   \n",
      "3     6  36   7  32   3   7  12  12  35  35 ...  35  35  35  35  35  35  35   \n",
      "4     6  12  25  27  35  35  35  35  35  35 ...  35  35  35  35  35  35  35   \n",
      "5    30   6   7  12  35  35  35  35  35  35 ...  35  35  35  35  35  35  35   \n",
      "6     4  31  20   3   2   2   7  13  31  35 ...  35  35  35  35  35  35  35   \n",
      "7     3  20   3  13  31   6   7  12  35  35 ...  35  35  35  35  35  35  35   \n",
      "8    14  14  28   6   2  35  35  35  35  35 ...  35  35  35  35  35  35  35   \n",
      "9     3   2  13  31  14  14   1  14  35  35 ...  35  35  35  35  35  35  35   \n",
      "10   34  32  32  14  14  27  35  35  35  35 ...  35  35  35  35  35  35  35   \n",
      "11   32  14   3   9  12   6  14  35  35  35 ...  35  35  35  35  35  35  35   \n",
      "12    7  13   6   7  31   7  12   1   3   7 ...  35  35  35  35  35  35  35   \n",
      "13   32  14  12   6  14  35  35  35  35  35 ...  35  35  35  35  35  35  35   \n",
      "14    3   2  12   6  14  31   3  14  14  14 ...  35  35  35  35  35  35  35   \n",
      "15   14  28  20  20  27  34  12  35  35  35 ...  35  35  35  35  35  35  35   \n",
      "16   26  14  32  30   6  14  35  35  35  35 ...  35  35  35  35  35  35  35   \n",
      "17   14   6  14  35  35  35  35  35  35  35 ...  35  35  35  35  35  35  35   \n",
      "18   33  28  20   3  12   1   3  12  35  35 ...  35  35  35  35  35  35  35   \n",
      "19   18  32  20   7  35  35  35  35  35  35 ...  35  35  35  35  35  35  35   \n",
      "20   14  14  14  14  14  14  35  35  35  35 ...  35  35  35  35  35  35  35   \n",
      "21    6  29   7  13   7  13  14  32  30   3 ...  35  35  35  35  35  35  35   \n",
      "22    3  12  32  14  14  35  35  35  35  35 ...  35  35  35  35  35  35  35   \n",
      "23    9  12   6  14  35  35  35  35  35  35 ...  35  35  35  35  35  35  35   \n",
      "24   14  14  27  12  35  35  35  35  35  35 ...  35  35  35  35  35  35  35   \n",
      "25   14  13   3  12   6  14  14   6   3  12 ...  35  35  35  35  35  35  35   \n",
      "26   14  14  28   2  13  35  35  35  35  35 ...  35  35  35  35  35  35  35   \n",
      "27   36  32   3  12   6   3  12  35  35  35 ...  35  35  35  35  35  35  35   \n",
      "28   27   7  27  12  13  35  35  35  35  35 ...  35  35  35  35  35  35  35   \n",
      "29   14  14  14  35  35  35  35  35  35  35 ...  35  35  35  35  35  35  35   \n",
      "..   ..  ..  ..  ..  ..  ..  ..  ..  ..  .. ...  ..  ..  ..  ..  ..  ..  ..   \n",
      "806  32   3  12   6  13  30  20  35  35  35 ...  35  35  35  35  35  35  35   \n",
      "807  32  14   3  12   1  22   7  12   6   3 ...  35  35  35  35  35  35  35   \n",
      "808  34  13  12   6  14  14   6  29  12  35 ...  35  35  35  35  35  35  35   \n",
      "809   7  13  28  30   6   2  35  35  35  35 ...  35  35  35  35  35  35  35   \n",
      "810  26  14  14  28   3  12   6  14   6  19 ...  35  35  35  35  35  35  35   \n",
      "811  26  14  17  12  32  30  25  27   3  13 ...  35  35  35  35  35  35  35   \n",
      "812  34  31   3   2   7  13   6   7  35  35 ...  35  35  35  35  35  35  35   \n",
      "813  36   7  13   6  12  31  20   6  14  35 ...  35  35  35  35  35  35  35   \n",
      "814  14  14  14  14   1  14  14  14  35  35 ...  35  35  35  35  35  35  35   \n",
      "815  34  31   3   7  13  33  31  13  30  35 ...  35  35  35  35  35  35  35   \n",
      "816  34  12  31  18  27   6  14  14  35  35 ...  35  35  35  35  35  35  35   \n",
      "817   7  12  14   1  14  13  35  35  35  35 ...  35  35  35  35  35  35  35   \n",
      "818  36  28   3   7   7  13  31  14  35  35 ...  35  35  35  35  35  35  35   \n",
      "819  32   3  12  30   6  29  12   6  30  13 ...  35  35  35  35  35  35  35   \n",
      "820  14  17  12  32   2  35  35  35  35  35 ...  35  35  35  35  35  35  35   \n",
      "821  14  32  13  12  13  12  30  13  12  12 ...  35  35  35  35  35  35  35   \n",
      "822   6  12  13   3  13  31  20  27   6   3 ...  35  35  35  35  35  35  35   \n",
      "823  32  18   7  25  27   3  12  12  25  27 ...  35  35  35  35  35  35  35   \n",
      "824  36   7  13  27  12  35  35  35  35  35 ...  35  35  35  35  35  35  35   \n",
      "825  14   3  12   6   7  12  27  19   7   7 ...  35  35  35  35  35  35  35   \n",
      "826   3  14  15  14  35  35  35  35  35  35 ...  35  35  35  35  35  35  35   \n",
      "827  14   7  13   7  14  13  35  35  35  35 ...  35  35  35  35  35  35  35   \n",
      "828  11  13  27  30   6   2   7  13  35  35 ...  35  35  35  35  35  35  35   \n",
      "829  27  13  27  21   7   6  14  35  35  35 ...  35  35  35  35  35  35  35   \n",
      "830  36  32   3  12  30   6  14  35  35  35 ...  35  35  35  35  35  35  35   \n",
      "831  14  14  28   3  12  30   6   3   2   6 ...  35  35  35  35  35  35  35   \n",
      "832   3  13  35  35  35  35  35  35  35  35 ...  35  35  35  35  35  35  35   \n",
      "833  36  28  14  28   6  29  25  14  35  35 ...  35  35  35  35  35  35  35   \n",
      "834   4  31   6   2   2   7  13  35  35  35 ...  35  35  35  35  35  35  35   \n",
      "835  36   7   7  12  32   3   7   7  12  27 ...  35  35  35  35  35  35  35   \n",
      "\n",
      "     31  32  33  \n",
      "0    35  35  35  \n",
      "1    35  35  35  \n",
      "2    35  35  35  \n",
      "3    35  35  35  \n",
      "4    35  35  35  \n",
      "5    35  35  35  \n",
      "6    35  35  35  \n",
      "7    35  35  35  \n",
      "8    35  35  35  \n",
      "9    35  35  35  \n",
      "10   35  35  35  \n",
      "11   35  35  35  \n",
      "12   35  35  35  \n",
      "13   35  35  35  \n",
      "14   35  35  35  \n",
      "15   35  35  35  \n",
      "16   35  35  35  \n",
      "17   35  35  35  \n",
      "18   35  35  35  \n",
      "19   35  35  35  \n",
      "20   35  35  35  \n",
      "21   35  35  35  \n",
      "22   35  35  35  \n",
      "23   35  35  35  \n",
      "24   35  35  35  \n",
      "25   35  35  35  \n",
      "26   35  35  35  \n",
      "27   35  35  35  \n",
      "28   35  35  35  \n",
      "29   35  35  35  \n",
      "..   ..  ..  ..  \n",
      "806  35  35  35  \n",
      "807  35  35  35  \n",
      "808  35  35  35  \n",
      "809  35  35  35  \n",
      "810  35  35  35  \n",
      "811  35  35  35  \n",
      "812  35  35  35  \n",
      "813  35  35  35  \n",
      "814  35  35  35  \n",
      "815  35  35  35  \n",
      "816  35  35  35  \n",
      "817  35  35  35  \n",
      "818  35  35  35  \n",
      "819  35  35  35  \n",
      "820  35  35  35  \n",
      "821  35  35  35  \n",
      "822  35  35  35  \n",
      "823  35  35  35  \n",
      "824  35  35  35  \n",
      "825  35  35  35  \n",
      "826  35  35  35  \n",
      "827  35  35  35  \n",
      "828  35  35  35  \n",
      "829  35  35  35  \n",
      "830  35  35  35  \n",
      "831  35  35  35  \n",
      "832  35  35  35  \n",
      "833  35  35  35  \n",
      "834  35  35  35  \n",
      "835  35  35  35  \n",
      "\n",
      "[836 rows x 34 columns]\n"
     ]
    }
   ],
   "source": [
    "print(X_train_final)"
   ]
  },
  {
   "cell_type": "code",
   "execution_count": 122,
   "metadata": {},
   "outputs": [],
   "source": [
    "##\n",
    "## random forrest: selected due to high accuracy, and hasn't\n",
    "##     been implemented in the project.\n",
    "##\n",
    "clf=RandomForestClassifier(n_estimators=5)\n",
    "\n",
    "tr0 = time()\n",
    "clf.fit(X_train_final, np.asarray(y_train))\n",
    "tr1 = time()\n",
    "y_pred=clf.predict(X_test_final)\n",
    "tr2 = time()"
   ]
  },
  {
   "cell_type": "code",
   "execution_count": 111,
   "metadata": {},
   "outputs": [
    {
     "data": {
      "text/plain": [
       "array([[94, 20],\n",
       "       [24, 71]], dtype=int64)"
      ]
     },
     "execution_count": 111,
     "metadata": {},
     "output_type": "execute_result"
    }
   ],
   "source": [
    "confusion_matrix(y_pred=y_pred, y_true=y_test)"
   ]
  },
  {
   "cell_type": "code",
   "execution_count": 117,
   "metadata": {},
   "outputs": [
    {
     "name": "stdout",
     "output_type": "stream",
     "text": [
      "Accuracy: 0.7894736842105263\n"
     ]
    }
   ],
   "source": [
    "print('Accuracy: {accuracy}'.format(accuracy=accuracy_score(y_test, y_pred)))"
   ]
  },
  {
   "cell_type": "code",
   "execution_count": 124,
   "metadata": {},
   "outputs": [
    {
     "name": "stdout",
     "output_type": "stream",
     "text": [
      "random forrest\n",
      "train: 0.018568038940429688,\n",
      "predict: 0.003904581069946289\n"
     ]
    }
   ],
   "source": [
    "print('random forrest\\ntrain: {rf_train},\\npredict: {rf_predict}'.format(\n",
    "    rf_train=tr1-tr0,\n",
    "    rf_predict=tr2-tr1\n",
    "))"
   ]
  },
  {
   "cell_type": "code",
   "execution_count": 133,
   "metadata": {},
   "outputs": [
    {
     "data": {
      "text/plain": [
       "['model/QuestionAnswerCMU_Classification.pkl']"
      ]
     },
     "execution_count": 133,
     "metadata": {},
     "output_type": "execute_result"
    }
   ],
   "source": [
    "## export model\n",
    "if not path.exists('model'):\n",
    "    makedirs('model')\n",
    "joblib.dump(clf, 'model/random_forrest.pkl', compress=9)"
   ]
  },
  {
   "cell_type": "code",
   "execution_count": null,
   "metadata": {},
   "outputs": [],
   "source": []
  }
 ],
 "metadata": {
  "kernelspec": {
   "display_name": "Python 3",
   "language": "python",
   "name": "python3"
  },
  "language_info": {
   "codemirror_mode": {
    "name": "ipython",
    "version": 3
   },
   "file_extension": ".py",
   "mimetype": "text/x-python",
   "name": "python",
   "nbconvert_exporter": "python",
   "pygments_lexer": "ipython3",
   "version": "3.6.7"
  }
 },
 "nbformat": 4,
 "nbformat_minor": 2
}
