{
 "cells": [
  {
   "cell_type": "code",
   "execution_count": 1,
   "metadata": {},
   "outputs": [],
   "source": [
    "import pandas as pd\n",
    "import numpy as np\n",
    "from nltk import tag, word_tokenize\n",
    "from sklearn.model_selection import train_test_split\n",
    "from sklearn.ensemble import RandomForestClassifier"
   ]
  },
  {
   "cell_type": "code",
   "execution_count": 2,
   "metadata": {},
   "outputs": [],
   "source": [
    "## load data\n",
    "df = pd.read_csv('data/S10/question_answer_pairs.txt', sep='\\\\t', engine='python').dropna()\n",
    "\n",
    "questions = df['Question']\n",
    "answers = df['Answer']"
   ]
  },
  {
   "cell_type": "code",
   "execution_count": 79,
   "metadata": {},
   "outputs": [],
   "source": [
    "##\n",
    "## categorization of penn-tree\n",
    "##\n",
    "## - https://www.ling.upenn.edu/courses/Fall_2003/ling001/penn_treebank_pos.html\n",
    "##\n",
    "penn_scale = {\n",
    "    'CC': 1,\n",
    "    'CD': 2,\n",
    "    'DT': 3, \n",
    "    'EX': 4,\n",
    "    'FW': 5,\n",
    "    'IN': 6,\n",
    "    'JJ': 7,\n",
    "    'JJR': 8,\n",
    "    'JJS': 9,\n",
    "    'LS': 10,\n",
    "    'MD': 11,\n",
    "    'NN': 12,\n",
    "    'NNS': 13,\n",
    "    'NNP': 14,\n",
    "    'NNPS': 15,\n",
    "    'PDT': 16,\n",
    "    'POS': 17,\n",
    "    'PRP': 18,\n",
    "    'PRP$': 19,\n",
    "    'RB': 20,\n",
    "    'RBR': 21,\n",
    "    'RBS': 22,\n",
    "    'RP': 23,\n",
    "    'SYM': 24,\n",
    "    'TO': 25,\n",
    "    'UH': 26,\n",
    "    'VB': 27,\n",
    "    'VBD': 28,\n",
    "    'VBG': 29,\n",
    "    'VBN': 30,\n",
    "    'VBP': 31,\n",
    "    'VBZ': 32,\n",
    "    'WDT': 33,\n",
    "    'WP': 34,\n",
    "    'WP$': 35,\n",
    "    'WRB': 36\n",
    "}\n",
    "\n",
    "def tokenizer(sentence):\n",
    "    '''\n",
    "\n",
    "    penn-tree: tokenize + parts of speech\n",
    "\n",
    "    '''\n",
    "\n",
    "    sent = word_tokenize(sentence)\n",
    "    pos = tag.pos_tag(sent)\n",
    "    return([x[1] for x in pos if x[1] and x[1] in penn_scale])\n",
    "\n",
    "def replace(list, dictionary):\n",
    "    '''\n",
    "\n",
    "    replace list item with corresponding dict value\n",
    "\n",
    "    '''\n",
    "\n",
    "    return [dictionary.get(item, item) for item in list]"
   ]
  },
  {
   "cell_type": "code",
   "execution_count": 80,
   "metadata": {},
   "outputs": [],
   "source": [
    "##\n",
    "## order of appending 'pos' (1) must match the order of appending\n",
    "##     the 'sent_type' (2) sentence type.\n",
    "##\n",
    "\n",
    "## (1) pos: combine questions + answers\n",
    "questions_pos = questions.apply(tokenizer)\n",
    "questions_unique = [replace(list(x), penn_scale)  for x in set(tuple(x) for x in questions_pos)]\n",
    "\n",
    "answers_pos = answers.apply(tokenizer)\n",
    "answers_unique = [replace(list(x), penn_scale) for x in set(tuple(x) for x in answers_pos)]\n",
    "\n",
    "## append data\n",
    "pos = answers_unique + questions_unique\n",
    "\n",
    "## (2) sentence type\n",
    "sent_type = []\n",
    "for i in range(len(questions_unique)):\n",
    "    sent_type.append('0')\n",
    "\n",
    "for j in range(len(answers_unique)):\n",
    "    sent_type.append('1')"
   ]
  },
  {
   "cell_type": "code",
   "execution_count": 81,
   "metadata": {},
   "outputs": [
    {
     "name": "stdout",
     "output_type": "stream",
     "text": [
      "X_train: (836,), y_train: (836,)\n",
      "X_test: (209,), y_test: (209,)\n"
     ]
    }
   ],
   "source": [
    "## adjusted dataset\n",
    "df_adjusted = pd.DataFrame({\n",
    "    'pos': pos,\n",
    "    'type': sent_type\n",
    "})\n",
    "\n",
    "## train + test\n",
    "X_train, X_test, y_train, y_test = train_test_split(\n",
    "    df_adjusted['pos'],\n",
    "    df_adjusted['type'],\n",
    "    test_size=0.2\n",
    ")\n",
    "\n",
    "## print shape\n",
    "print('X_train: {X}, y_train: {y}'.format(\n",
    "    X=X_train.shape,\n",
    "    y=y_train.shape\n",
    "))\n",
    "\n",
    "print('X_test: {X}, y_test: {y}'.format(\n",
    "    X=X_test.shape,\n",
    "    y=y_test.shape\n",
    "))"
   ]
  },
  {
   "cell_type": "code",
   "execution_count": 82,
   "metadata": {},
   "outputs": [
    {
     "data": {
      "text/plain": [
       "323                                [6]\n",
       "835     [32, 14, 14, 14, 3, 9, 12, 12]\n",
       "610         [36, 32, 3, 12, 6, 14, 14]\n",
       "538       [6, 36, 7, 32, 3, 7, 12, 12]\n",
       "282                    [6, 12, 25, 27]\n",
       "22                      [30, 6, 7, 12]\n",
       "424    [4, 31, 20, 3, 2, 2, 7, 13, 31]\n",
       "114       [3, 20, 3, 13, 31, 6, 7, 12]\n",
       "933                 [14, 14, 28, 6, 2]\n",
       "50       [3, 2, 13, 31, 14, 14, 1, 14]\n",
       "Name: pos, dtype: object"
      ]
     },
     "execution_count": 82,
     "metadata": {},
     "output_type": "execute_result"
    }
   ],
   "source": [
    "X_train.head(10)"
   ]
  },
  {
   "cell_type": "code",
   "execution_count": 83,
   "metadata": {},
   "outputs": [
    {
     "data": {
      "text/plain": [
       "323    0\n",
       "835    1\n",
       "610    1\n",
       "538    0\n",
       "282    0\n",
       "22     0\n",
       "424    0\n",
       "114    0\n",
       "933    1\n",
       "50     0\n",
       "Name: type, dtype: object"
      ]
     },
     "execution_count": 83,
     "metadata": {},
     "output_type": "execute_result"
    }
   ],
   "source": [
    "y_train.head(10)"
   ]
  },
  {
   "cell_type": "code",
   "execution_count": 88,
   "metadata": {},
   "outputs": [],
   "source": [
    "## ensure nested lists same length\n",
    "length = len(sorted(X_train, key=len, reverse=True)[0])\n",
    "X_train_final=np.array([xi+[100]*(length-len(xi)) for xi in X_train])\n",
    "X_train_final=pd.DataFrame(X_train_final)"
   ]
  },
  {
   "cell_type": "code",
   "execution_count": 89,
   "metadata": {},
   "outputs": [
    {
     "name": "stdout",
     "output_type": "stream",
     "text": [
      "     0    1    2    3    4    5    6    7    8    9  ...    24   25   26   27  \\\n",
      "0     6  100  100  100  100  100  100  100  100  100 ...   100  100  100  100   \n",
      "1    32   14   14   14    3    9   12   12  100  100 ...   100  100  100  100   \n",
      "2    36   32    3   12    6   14   14  100  100  100 ...   100  100  100  100   \n",
      "3     6   36    7   32    3    7   12   12  100  100 ...   100  100  100  100   \n",
      "4     6   12   25   27  100  100  100  100  100  100 ...   100  100  100  100   \n",
      "5    30    6    7   12  100  100  100  100  100  100 ...   100  100  100  100   \n",
      "6     4   31   20    3    2    2    7   13   31  100 ...   100  100  100  100   \n",
      "7     3   20    3   13   31    6    7   12  100  100 ...   100  100  100  100   \n",
      "8    14   14   28    6    2  100  100  100  100  100 ...   100  100  100  100   \n",
      "9     3    2   13   31   14   14    1   14  100  100 ...   100  100  100  100   \n",
      "10   34   32   32   14   14   27  100  100  100  100 ...   100  100  100  100   \n",
      "11   32   14    3    9   12    6   14  100  100  100 ...   100  100  100  100   \n",
      "12    7   13    6    7   31    7   12    1    3    7 ...   100  100  100  100   \n",
      "13   32   14   12    6   14  100  100  100  100  100 ...   100  100  100  100   \n",
      "14    3    2   12    6   14   31    3   14   14   14 ...   100  100  100  100   \n",
      "15   14   28   20   20   27   34   12  100  100  100 ...   100  100  100  100   \n",
      "16   26   14   32   30    6   14  100  100  100  100 ...   100  100  100  100   \n",
      "17   14    6   14  100  100  100  100  100  100  100 ...   100  100  100  100   \n",
      "18   33   28   20    3   12    1    3   12  100  100 ...   100  100  100  100   \n",
      "19   18   32   20    7  100  100  100  100  100  100 ...   100  100  100  100   \n",
      "20   14   14   14   14   14   14  100  100  100  100 ...   100  100  100  100   \n",
      "21    6   29    7   13    7   13   14   32   30    3 ...   100  100  100  100   \n",
      "22    3   12   32   14   14  100  100  100  100  100 ...   100  100  100  100   \n",
      "23    9   12    6   14  100  100  100  100  100  100 ...   100  100  100  100   \n",
      "24   14   14   27   12  100  100  100  100  100  100 ...   100  100  100  100   \n",
      "25   14   13    3   12    6   14   14    6    3   12 ...   100  100  100  100   \n",
      "26   14   14   28    2   13  100  100  100  100  100 ...   100  100  100  100   \n",
      "27   36   32    3   12    6    3   12  100  100  100 ...   100  100  100  100   \n",
      "28   27    7   27   12   13  100  100  100  100  100 ...   100  100  100  100   \n",
      "29   14   14   14  100  100  100  100  100  100  100 ...   100  100  100  100   \n",
      "..   ..  ...  ...  ...  ...  ...  ...  ...  ...  ... ...   ...  ...  ...  ...   \n",
      "806  32    3   12    6   13   30   20  100  100  100 ...   100  100  100  100   \n",
      "807  32   14    3   12    1   22    7   12    6    3 ...   100  100  100  100   \n",
      "808  34   13   12    6   14   14    6   29   12  100 ...   100  100  100  100   \n",
      "809   7   13   28   30    6    2  100  100  100  100 ...   100  100  100  100   \n",
      "810  26   14   14   28    3   12    6   14    6   19 ...   100  100  100  100   \n",
      "811  26   14   17   12   32   30   25   27    3   13 ...   100  100  100  100   \n",
      "812  34   31    3    2    7   13    6    7  100  100 ...   100  100  100  100   \n",
      "813  36    7   13    6   12   31   20    6   14  100 ...   100  100  100  100   \n",
      "814  14   14   14   14    1   14   14   14  100  100 ...   100  100  100  100   \n",
      "815  34   31    3    7   13   33   31   13   30  100 ...   100  100  100  100   \n",
      "816  34   12   31   18   27    6   14   14  100  100 ...   100  100  100  100   \n",
      "817   7   12   14    1   14   13  100  100  100  100 ...   100  100  100  100   \n",
      "818  36   28    3    7    7   13   31   14  100  100 ...   100  100  100  100   \n",
      "819  32    3   12   30    6   29   12    6   30   13 ...   100  100  100  100   \n",
      "820  14   17   12   32    2  100  100  100  100  100 ...   100  100  100  100   \n",
      "821  14   32   13   12   13   12   30   13   12   12 ...   100  100  100  100   \n",
      "822   6   12   13    3   13   31   20   27    6    3 ...   100  100  100  100   \n",
      "823  32   18    7   25   27    3   12   12   25   27 ...   100  100  100  100   \n",
      "824  36    7   13   27   12  100  100  100  100  100 ...   100  100  100  100   \n",
      "825  14    3   12    6    7   12   27   19    7    7 ...   100  100  100  100   \n",
      "826   3   14   15   14  100  100  100  100  100  100 ...   100  100  100  100   \n",
      "827  14    7   13    7   14   13  100  100  100  100 ...   100  100  100  100   \n",
      "828  11   13   27   30    6    2    7   13  100  100 ...   100  100  100  100   \n",
      "829  27   13   27   21    7    6   14  100  100  100 ...   100  100  100  100   \n",
      "830  36   32    3   12   30    6   14  100  100  100 ...   100  100  100  100   \n",
      "831  14   14   28    3   12   30    6    3    2    6 ...   100  100  100  100   \n",
      "832   3   13  100  100  100  100  100  100  100  100 ...   100  100  100  100   \n",
      "833  36   28   14   28    6   29   25   14  100  100 ...   100  100  100  100   \n",
      "834   4   31    6    2    2    7   13  100  100  100 ...   100  100  100  100   \n",
      "835  36    7    7   12   32    3    7    7   12   27 ...   100  100  100  100   \n",
      "\n",
      "      28   29   30   31   32   33  \n",
      "0    100  100  100  100  100  100  \n",
      "1    100  100  100  100  100  100  \n",
      "2    100  100  100  100  100  100  \n",
      "3    100  100  100  100  100  100  \n",
      "4    100  100  100  100  100  100  \n",
      "5    100  100  100  100  100  100  \n",
      "6    100  100  100  100  100  100  \n",
      "7    100  100  100  100  100  100  \n",
      "8    100  100  100  100  100  100  \n",
      "9    100  100  100  100  100  100  \n",
      "10   100  100  100  100  100  100  \n",
      "11   100  100  100  100  100  100  \n",
      "12   100  100  100  100  100  100  \n",
      "13   100  100  100  100  100  100  \n",
      "14   100  100  100  100  100  100  \n",
      "15   100  100  100  100  100  100  \n",
      "16   100  100  100  100  100  100  \n",
      "17   100  100  100  100  100  100  \n",
      "18   100  100  100  100  100  100  \n",
      "19   100  100  100  100  100  100  \n",
      "20   100  100  100  100  100  100  \n",
      "21   100  100  100  100  100  100  \n",
      "22   100  100  100  100  100  100  \n",
      "23   100  100  100  100  100  100  \n",
      "24   100  100  100  100  100  100  \n",
      "25   100  100  100  100  100  100  \n",
      "26   100  100  100  100  100  100  \n",
      "27   100  100  100  100  100  100  \n",
      "28   100  100  100  100  100  100  \n",
      "29   100  100  100  100  100  100  \n",
      "..   ...  ...  ...  ...  ...  ...  \n",
      "806  100  100  100  100  100  100  \n",
      "807  100  100  100  100  100  100  \n",
      "808  100  100  100  100  100  100  \n",
      "809  100  100  100  100  100  100  \n",
      "810  100  100  100  100  100  100  \n",
      "811  100  100  100  100  100  100  \n",
      "812  100  100  100  100  100  100  \n",
      "813  100  100  100  100  100  100  \n",
      "814  100  100  100  100  100  100  \n",
      "815  100  100  100  100  100  100  \n",
      "816  100  100  100  100  100  100  \n",
      "817  100  100  100  100  100  100  \n",
      "818  100  100  100  100  100  100  \n",
      "819  100  100  100  100  100  100  \n",
      "820  100  100  100  100  100  100  \n",
      "821  100  100  100  100  100  100  \n",
      "822  100  100  100  100  100  100  \n",
      "823  100  100  100  100  100  100  \n",
      "824  100  100  100  100  100  100  \n",
      "825  100  100  100  100  100  100  \n",
      "826  100  100  100  100  100  100  \n",
      "827  100  100  100  100  100  100  \n",
      "828  100  100  100  100  100  100  \n",
      "829  100  100  100  100  100  100  \n",
      "830  100  100  100  100  100  100  \n",
      "831  100  100  100  100  100  100  \n",
      "832  100  100  100  100  100  100  \n",
      "833  100  100  100  100  100  100  \n",
      "834  100  100  100  100  100  100  \n",
      "835  100  100  100  100  100  100  \n",
      "\n",
      "[836 rows x 34 columns]\n"
     ]
    }
   ],
   "source": [
    "print(X_train_final)"
   ]
  },
  {
   "cell_type": "code",
   "execution_count": 91,
   "metadata": {},
   "outputs": [
    {
     "ename": "ValueError",
     "evalue": "setting an array element with a sequence.",
     "output_type": "error",
     "traceback": [
      "\u001b[1;31m---------------------------------------------------------------------------\u001b[0m",
      "\u001b[1;31mValueError\u001b[0m                                Traceback (most recent call last)",
      "\u001b[1;32m<ipython-input-91-5ec31a051bdf>\u001b[0m in \u001b[0;36m<module>\u001b[1;34m\u001b[0m\n\u001b[0;32m      5\u001b[0m \u001b[0mclf\u001b[0m\u001b[1;33m=\u001b[0m\u001b[0mRandomForestClassifier\u001b[0m\u001b[1;33m(\u001b[0m\u001b[0mn_estimators\u001b[0m\u001b[1;33m=\u001b[0m\u001b[1;36m5\u001b[0m\u001b[1;33m)\u001b[0m\u001b[1;33m\u001b[0m\u001b[1;33m\u001b[0m\u001b[0m\n\u001b[0;32m      6\u001b[0m \u001b[0mclf\u001b[0m\u001b[1;33m.\u001b[0m\u001b[0mfit\u001b[0m\u001b[1;33m(\u001b[0m\u001b[0mX_train_final\u001b[0m\u001b[1;33m,\u001b[0m \u001b[0mnp\u001b[0m\u001b[1;33m.\u001b[0m\u001b[0masarray\u001b[0m\u001b[1;33m(\u001b[0m\u001b[0my_train\u001b[0m\u001b[1;33m)\u001b[0m\u001b[1;33m)\u001b[0m\u001b[1;33m\u001b[0m\u001b[1;33m\u001b[0m\u001b[0m\n\u001b[1;32m----> 7\u001b[1;33m \u001b[0my_pred\u001b[0m\u001b[1;33m=\u001b[0m\u001b[0mclf\u001b[0m\u001b[1;33m.\u001b[0m\u001b[0mpredict\u001b[0m\u001b[1;33m(\u001b[0m\u001b[0mX_test\u001b[0m\u001b[1;33m)\u001b[0m\u001b[1;33m\u001b[0m\u001b[1;33m\u001b[0m\u001b[0m\n\u001b[0m",
      "\u001b[1;32m~\\Anaconda3\\lib\\site-packages\\sklearn\\ensemble\\forest.py\u001b[0m in \u001b[0;36mpredict\u001b[1;34m(self, X)\u001b[0m\n\u001b[0;32m    541\u001b[0m             \u001b[0mThe\u001b[0m \u001b[0mpredicted\u001b[0m \u001b[0mclasses\u001b[0m\u001b[1;33m.\u001b[0m\u001b[1;33m\u001b[0m\u001b[1;33m\u001b[0m\u001b[0m\n\u001b[0;32m    542\u001b[0m         \"\"\"\n\u001b[1;32m--> 543\u001b[1;33m         \u001b[0mproba\u001b[0m \u001b[1;33m=\u001b[0m \u001b[0mself\u001b[0m\u001b[1;33m.\u001b[0m\u001b[0mpredict_proba\u001b[0m\u001b[1;33m(\u001b[0m\u001b[0mX\u001b[0m\u001b[1;33m)\u001b[0m\u001b[1;33m\u001b[0m\u001b[1;33m\u001b[0m\u001b[0m\n\u001b[0m\u001b[0;32m    544\u001b[0m \u001b[1;33m\u001b[0m\u001b[0m\n\u001b[0;32m    545\u001b[0m         \u001b[1;32mif\u001b[0m \u001b[0mself\u001b[0m\u001b[1;33m.\u001b[0m\u001b[0mn_outputs_\u001b[0m \u001b[1;33m==\u001b[0m \u001b[1;36m1\u001b[0m\u001b[1;33m:\u001b[0m\u001b[1;33m\u001b[0m\u001b[1;33m\u001b[0m\u001b[0m\n",
      "\u001b[1;32m~\\Anaconda3\\lib\\site-packages\\sklearn\\ensemble\\forest.py\u001b[0m in \u001b[0;36mpredict_proba\u001b[1;34m(self, X)\u001b[0m\n\u001b[0;32m    581\u001b[0m         \u001b[0mcheck_is_fitted\u001b[0m\u001b[1;33m(\u001b[0m\u001b[0mself\u001b[0m\u001b[1;33m,\u001b[0m \u001b[1;34m'estimators_'\u001b[0m\u001b[1;33m)\u001b[0m\u001b[1;33m\u001b[0m\u001b[1;33m\u001b[0m\u001b[0m\n\u001b[0;32m    582\u001b[0m         \u001b[1;31m# Check data\u001b[0m\u001b[1;33m\u001b[0m\u001b[1;33m\u001b[0m\u001b[1;33m\u001b[0m\u001b[0m\n\u001b[1;32m--> 583\u001b[1;33m         \u001b[0mX\u001b[0m \u001b[1;33m=\u001b[0m \u001b[0mself\u001b[0m\u001b[1;33m.\u001b[0m\u001b[0m_validate_X_predict\u001b[0m\u001b[1;33m(\u001b[0m\u001b[0mX\u001b[0m\u001b[1;33m)\u001b[0m\u001b[1;33m\u001b[0m\u001b[1;33m\u001b[0m\u001b[0m\n\u001b[0m\u001b[0;32m    584\u001b[0m \u001b[1;33m\u001b[0m\u001b[0m\n\u001b[0;32m    585\u001b[0m         \u001b[1;31m# Assign chunk of trees to jobs\u001b[0m\u001b[1;33m\u001b[0m\u001b[1;33m\u001b[0m\u001b[1;33m\u001b[0m\u001b[0m\n",
      "\u001b[1;32m~\\Anaconda3\\lib\\site-packages\\sklearn\\ensemble\\forest.py\u001b[0m in \u001b[0;36m_validate_X_predict\u001b[1;34m(self, X)\u001b[0m\n\u001b[0;32m    360\u001b[0m                                  \"call `fit` before exploiting the model.\")\n\u001b[0;32m    361\u001b[0m \u001b[1;33m\u001b[0m\u001b[0m\n\u001b[1;32m--> 362\u001b[1;33m         \u001b[1;32mreturn\u001b[0m \u001b[0mself\u001b[0m\u001b[1;33m.\u001b[0m\u001b[0mestimators_\u001b[0m\u001b[1;33m[\u001b[0m\u001b[1;36m0\u001b[0m\u001b[1;33m]\u001b[0m\u001b[1;33m.\u001b[0m\u001b[0m_validate_X_predict\u001b[0m\u001b[1;33m(\u001b[0m\u001b[0mX\u001b[0m\u001b[1;33m,\u001b[0m \u001b[0mcheck_input\u001b[0m\u001b[1;33m=\u001b[0m\u001b[1;32mTrue\u001b[0m\u001b[1;33m)\u001b[0m\u001b[1;33m\u001b[0m\u001b[1;33m\u001b[0m\u001b[0m\n\u001b[0m\u001b[0;32m    363\u001b[0m \u001b[1;33m\u001b[0m\u001b[0m\n\u001b[0;32m    364\u001b[0m     \u001b[1;33m@\u001b[0m\u001b[0mproperty\u001b[0m\u001b[1;33m\u001b[0m\u001b[1;33m\u001b[0m\u001b[0m\n",
      "\u001b[1;32m~\\Anaconda3\\lib\\site-packages\\sklearn\\tree\\tree.py\u001b[0m in \u001b[0;36m_validate_X_predict\u001b[1;34m(self, X, check_input)\u001b[0m\n\u001b[0;32m    375\u001b[0m         \u001b[1;34m\"\"\"Validate X whenever one tries to predict, apply, predict_proba\"\"\"\u001b[0m\u001b[1;33m\u001b[0m\u001b[1;33m\u001b[0m\u001b[0m\n\u001b[0;32m    376\u001b[0m         \u001b[1;32mif\u001b[0m \u001b[0mcheck_input\u001b[0m\u001b[1;33m:\u001b[0m\u001b[1;33m\u001b[0m\u001b[1;33m\u001b[0m\u001b[0m\n\u001b[1;32m--> 377\u001b[1;33m             \u001b[0mX\u001b[0m \u001b[1;33m=\u001b[0m \u001b[0mcheck_array\u001b[0m\u001b[1;33m(\u001b[0m\u001b[0mX\u001b[0m\u001b[1;33m,\u001b[0m \u001b[0mdtype\u001b[0m\u001b[1;33m=\u001b[0m\u001b[0mDTYPE\u001b[0m\u001b[1;33m,\u001b[0m \u001b[0maccept_sparse\u001b[0m\u001b[1;33m=\u001b[0m\u001b[1;34m\"csr\"\u001b[0m\u001b[1;33m)\u001b[0m\u001b[1;33m\u001b[0m\u001b[1;33m\u001b[0m\u001b[0m\n\u001b[0m\u001b[0;32m    378\u001b[0m             if issparse(X) and (X.indices.dtype != np.intc or\n\u001b[0;32m    379\u001b[0m                                 X.indptr.dtype != np.intc):\n",
      "\u001b[1;32m~\\Anaconda3\\lib\\site-packages\\sklearn\\utils\\validation.py\u001b[0m in \u001b[0;36mcheck_array\u001b[1;34m(array, accept_sparse, accept_large_sparse, dtype, order, copy, force_all_finite, ensure_2d, allow_nd, ensure_min_samples, ensure_min_features, warn_on_dtype, estimator)\u001b[0m\n\u001b[0;32m    525\u001b[0m             \u001b[1;32mtry\u001b[0m\u001b[1;33m:\u001b[0m\u001b[1;33m\u001b[0m\u001b[1;33m\u001b[0m\u001b[0m\n\u001b[0;32m    526\u001b[0m                 \u001b[0mwarnings\u001b[0m\u001b[1;33m.\u001b[0m\u001b[0msimplefilter\u001b[0m\u001b[1;33m(\u001b[0m\u001b[1;34m'error'\u001b[0m\u001b[1;33m,\u001b[0m \u001b[0mComplexWarning\u001b[0m\u001b[1;33m)\u001b[0m\u001b[1;33m\u001b[0m\u001b[1;33m\u001b[0m\u001b[0m\n\u001b[1;32m--> 527\u001b[1;33m                 \u001b[0marray\u001b[0m \u001b[1;33m=\u001b[0m \u001b[0mnp\u001b[0m\u001b[1;33m.\u001b[0m\u001b[0masarray\u001b[0m\u001b[1;33m(\u001b[0m\u001b[0marray\u001b[0m\u001b[1;33m,\u001b[0m \u001b[0mdtype\u001b[0m\u001b[1;33m=\u001b[0m\u001b[0mdtype\u001b[0m\u001b[1;33m,\u001b[0m \u001b[0morder\u001b[0m\u001b[1;33m=\u001b[0m\u001b[0morder\u001b[0m\u001b[1;33m)\u001b[0m\u001b[1;33m\u001b[0m\u001b[1;33m\u001b[0m\u001b[0m\n\u001b[0m\u001b[0;32m    528\u001b[0m             \u001b[1;32mexcept\u001b[0m \u001b[0mComplexWarning\u001b[0m\u001b[1;33m:\u001b[0m\u001b[1;33m\u001b[0m\u001b[1;33m\u001b[0m\u001b[0m\n\u001b[0;32m    529\u001b[0m                 raise ValueError(\"Complex data not supported\\n\"\n",
      "\u001b[1;32m~\\Anaconda3\\lib\\site-packages\\numpy\\core\\numeric.py\u001b[0m in \u001b[0;36masarray\u001b[1;34m(a, dtype, order)\u001b[0m\n\u001b[0;32m    480\u001b[0m \u001b[1;33m\u001b[0m\u001b[0m\n\u001b[0;32m    481\u001b[0m     \"\"\"\n\u001b[1;32m--> 482\u001b[1;33m     \u001b[1;32mreturn\u001b[0m \u001b[0marray\u001b[0m\u001b[1;33m(\u001b[0m\u001b[0ma\u001b[0m\u001b[1;33m,\u001b[0m \u001b[0mdtype\u001b[0m\u001b[1;33m,\u001b[0m \u001b[0mcopy\u001b[0m\u001b[1;33m=\u001b[0m\u001b[1;32mFalse\u001b[0m\u001b[1;33m,\u001b[0m \u001b[0morder\u001b[0m\u001b[1;33m=\u001b[0m\u001b[0morder\u001b[0m\u001b[1;33m)\u001b[0m\u001b[1;33m\u001b[0m\u001b[1;33m\u001b[0m\u001b[0m\n\u001b[0m\u001b[0;32m    483\u001b[0m \u001b[1;33m\u001b[0m\u001b[0m\n\u001b[0;32m    484\u001b[0m \u001b[1;32mdef\u001b[0m \u001b[0masanyarray\u001b[0m\u001b[1;33m(\u001b[0m\u001b[0ma\u001b[0m\u001b[1;33m,\u001b[0m \u001b[0mdtype\u001b[0m\u001b[1;33m=\u001b[0m\u001b[1;32mNone\u001b[0m\u001b[1;33m,\u001b[0m \u001b[0morder\u001b[0m\u001b[1;33m=\u001b[0m\u001b[1;32mNone\u001b[0m\u001b[1;33m)\u001b[0m\u001b[1;33m:\u001b[0m\u001b[1;33m\u001b[0m\u001b[1;33m\u001b[0m\u001b[0m\n",
      "\u001b[1;31mValueError\u001b[0m: setting an array element with a sequence."
     ]
    }
   ],
   "source": [
    "##\n",
    "## random forrest: selected due to high accuracy, and hasn't\n",
    "##     been implemented in the project.\n",
    "##\n",
    "clf=RandomForestClassifier(n_estimators=5)\n",
    "clf.fit(X_train_final, np.asarray(y_train))\n",
    "#y_pred=clf.predict(X_test)"
   ]
  },
  {
   "cell_type": "code",
   "execution_count": null,
   "metadata": {},
   "outputs": [],
   "source": []
  }
 ],
 "metadata": {
  "kernelspec": {
   "display_name": "Python 3",
   "language": "python",
   "name": "python3"
  },
  "language_info": {
   "codemirror_mode": {
    "name": "ipython",
    "version": 3
   },
   "file_extension": ".py",
   "mimetype": "text/x-python",
   "name": "python",
   "nbconvert_exporter": "python",
   "pygments_lexer": "ipython3",
   "version": "3.6.7"
  }
 },
 "nbformat": 4,
 "nbformat_minor": 2
}
