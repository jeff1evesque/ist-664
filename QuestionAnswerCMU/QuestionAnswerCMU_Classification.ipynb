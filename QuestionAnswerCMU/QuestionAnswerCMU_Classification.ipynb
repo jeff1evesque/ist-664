{
 "cells": [
  {
   "cell_type": "code",
   "execution_count": 132,
   "metadata": {},
   "outputs": [],
   "source": [
    "import pandas as pd\n",
    "import numpy as np\n",
    "from nltk import tag, word_tokenize\n",
    "from time import time\n",
    "from os import path, makedirs\n",
    "from sklearn.model_selection import train_test_split\n",
    "from sklearn.ensemble import RandomForestClassifier\n",
    "from sklearn.metrics import accuracy_score, confusion_matrix\n",
    "from sklearn.externals import joblib"
   ]
  },
  {
   "cell_type": "code",
   "execution_count": 140,
   "metadata": {},
   "outputs": [],
   "source": [
    "## load data\n",
    "df1 = pd.read_csv('data/S08/question_answer_pairs.txt', sep='\\\\t', engine='python').dropna()\n",
    "df2 = pd.read_csv('data/S09/question_answer_pairs.txt', sep='\\\\t', engine='python').dropna()\n",
    "df3 = pd.read_csv('data/S10/question_answer_pairs.txt', sep='\\\\t', engine='python').dropna()\n",
    "frames = [df1, df2, df3]\n",
    "df = pd.concat(frames)\n",
    "\n",
    "questions = df['Question']\n",
    "answers = df['Answer']"
   ]
  },
  {
   "cell_type": "code",
   "execution_count": 141,
   "metadata": {},
   "outputs": [],
   "source": [
    "##\n",
    "## categorization of penn-tree\n",
    "##\n",
    "## - https://www.ling.upenn.edu/courses/Fall_2003/ling001/penn_treebank_pos.html\n",
    "##\n",
    "penn_scale = {\n",
    "    'CC': 1,\n",
    "    'CD': 2,\n",
    "    'DT': 3, \n",
    "    'EX': 4,\n",
    "    'FW': 5,\n",
    "    'IN': 6,\n",
    "    'JJ': 7,\n",
    "    'JJR': 8,\n",
    "    'JJS': 9,\n",
    "    'LS': 10,\n",
    "    'MD': 11,\n",
    "    'NN': 12,\n",
    "    'NNS': 13,\n",
    "    'NNP': 14,\n",
    "    'NNPS': 15,\n",
    "    'PDT': 16,\n",
    "    'POS': 17,\n",
    "    'PRP': 18,\n",
    "    'PRP$': 19,\n",
    "    'RB': 20,\n",
    "    'RBR': 21,\n",
    "    'RBS': 22,\n",
    "    'RP': 23,\n",
    "    'SYM': 24,\n",
    "    'TO': 25,\n",
    "    'UH': 26,\n",
    "    'VB': 27,\n",
    "    'VBD': 28,\n",
    "    'VBG': 29,\n",
    "    'VBN': 30,\n",
    "    'VBP': 31,\n",
    "    'VBZ': 32,\n",
    "    'WDT': 33,\n",
    "    'WP': 34,\n",
    "    'WP$': 35,\n",
    "    'WRB': 36\n",
    "}\n",
    "\n",
    "def tokenizer(sentence):\n",
    "    '''\n",
    "\n",
    "    penn-tree: tokenize + parts of speech\n",
    "\n",
    "    '''\n",
    "\n",
    "    sent = word_tokenize(sentence)\n",
    "    pos = tag.pos_tag(sent)\n",
    "    return([x[1] for x in pos if x[1] and x[1] in penn_scale])\n",
    "\n",
    "def replace(list, dictionary):\n",
    "    '''\n",
    "\n",
    "    replace list item with corresponding dict value\n",
    "\n",
    "    '''\n",
    "\n",
    "    return [dictionary.get(item, item) for item in list]"
   ]
  },
  {
   "cell_type": "code",
   "execution_count": 142,
   "metadata": {},
   "outputs": [],
   "source": [
    "##\n",
    "## order of appending 'pos' (1) must match the order of appending\n",
    "##     the 'sent_type' (2) sentence type.\n",
    "##\n",
    "\n",
    "## (1) pos: combine questions + answers\n",
    "questions_pos = questions.apply(tokenizer)\n",
    "questions_unique = [replace(list(x), penn_scale)  for x in set(tuple(x) for x in questions_pos)]\n",
    "\n",
    "answers_pos = answers.apply(tokenizer)\n",
    "answers_unique = [replace(list(x), penn_scale) for x in set(tuple(x) for x in answers_pos)]\n",
    "\n",
    "## append data\n",
    "pos = answers_unique + questions_unique\n",
    "\n",
    "## (2) sentence type\n",
    "sent_type = []\n",
    "for i in range(len(questions_unique)):\n",
    "    sent_type.append('0')\n",
    "\n",
    "for j in range(len(answers_unique)):\n",
    "    sent_type.append('1')"
   ]
  },
  {
   "cell_type": "code",
   "execution_count": 143,
   "metadata": {},
   "outputs": [
    {
     "name": "stdout",
     "output_type": "stream",
     "text": [
      "X_train: (1861,), y_train: (1861,)\n",
      "X_test: (466,), y_test: (466,)\n"
     ]
    }
   ],
   "source": [
    "## adjusted dataset\n",
    "df_adjusted = pd.DataFrame({\n",
    "    'pos': pos,\n",
    "    'type': sent_type\n",
    "})\n",
    "\n",
    "## train + test\n",
    "X_train, X_test, y_train, y_test = train_test_split(\n",
    "    df_adjusted['pos'],\n",
    "    df_adjusted['type'],\n",
    "    test_size=0.2\n",
    ")\n",
    "\n",
    "## print shape\n",
    "print('X_train: {X}, y_train: {y}'.format(\n",
    "    X=X_train.shape,\n",
    "    y=y_train.shape\n",
    "))\n",
    "\n",
    "print('X_test: {X}, y_test: {y}'.format(\n",
    "    X=X_test.shape,\n",
    "    y=y_test.shape\n",
    "))"
   ]
  },
  {
   "cell_type": "code",
   "execution_count": 144,
   "metadata": {},
   "outputs": [
    {
     "data": {
      "text/plain": [
       "483      [3, 12, 12, 30, 6, 7, 13, 33, 28, 6, 14, 17, 12]\n",
       "1404                      [7, 12, 14, 14, 12, 28, 14, 12]\n",
       "908                        [3, 14, 14, 14, 1, 14, 14, 14]\n",
       "172     [13, 6, 14, 14, 14, 7, 14, 14, 14, 14, 6, 14, ...\n",
       "432                                     [7, 12, 1, 7, 12]\n",
       "548                      [14, 14, 17, 12, 20, 28, 25, 27]\n",
       "404                                            [3, 7, 12]\n",
       "1647                          [34, 32, 3, 12, 14, 14, 12]\n",
       "1772                                      [14, 7, 13, 30]\n",
       "912     [6, 3, 12, 32, 30, 3, 7, 2, 11, 27, 25, 3, 8, 12]\n",
       "Name: pos, dtype: object"
      ]
     },
     "execution_count": 144,
     "metadata": {},
     "output_type": "execute_result"
    }
   ],
   "source": [
    "X_train.head(10)"
   ]
  },
  {
   "cell_type": "code",
   "execution_count": 145,
   "metadata": {},
   "outputs": [
    {
     "data": {
      "text/plain": [
       "483     0\n",
       "1404    1\n",
       "908     0\n",
       "172     0\n",
       "432     0\n",
       "548     0\n",
       "404     0\n",
       "1647    1\n",
       "1772    1\n",
       "912     0\n",
       "Name: type, dtype: object"
      ]
     },
     "execution_count": 145,
     "metadata": {},
     "output_type": "execute_result"
    }
   ],
   "source": [
    "y_train.head(10)"
   ]
  },
  {
   "cell_type": "code",
   "execution_count": 155,
   "metadata": {},
   "outputs": [],
   "source": [
    "stop_gap = 35\n",
    "\n",
    "## train: ensure nested lists same length\n",
    "length = len(sorted(X_train, key=len, reverse=True)[0])\n",
    "X_train_final=np.array([xi+[stop_gap]*(length-len(xi)) for xi in X_train])\n",
    "X_train_final=pd.DataFrame(X_train_final)\n",
    "\n",
    "## test: ensure nested lists same length\n",
    "length = len(sorted(X_test, key=len, reverse=True)[0])\n",
    "X_test_final=np.array([xi+[stop_gap]*(length-len(xi)) for xi in X_test])\n",
    "X_test_final=pd.DataFrame(X_test_final)\n",
    "\n",
    "##\n",
    "## columns need to match:\n",
    "##\n",
    "## https://github.com/jeff1evesque/ist-664/issues/62#issuecomment-447223456\n",
    "##\n",
    "for i in range(38):\n",
    "    X_test_final['filler-{idx}'.format(idx=i)] = stop_gap"
   ]
  },
  {
   "cell_type": "code",
   "execution_count": 156,
   "metadata": {},
   "outputs": [
    {
     "name": "stdout",
     "output_type": "stream",
     "text": [
      "      0   1   2   3   4   5   6   7   8   9  ...  59  60  61  62  63  64  65  \\\n",
      "0      3  12  12  30   6   7  13  33  28   6 ...  35  35  35  35  35  35  35   \n",
      "1      7  12  14  14  12  28  14  12  35  35 ...  35  35  35  35  35  35  35   \n",
      "2      3  14  14  14   1  14  14  14  35  35 ...  35  35  35  35  35  35  35   \n",
      "3     13   6  14  14  14   7  14  14  14  14 ...  35  35  35  35  35  35  35   \n",
      "4      7  12   1   7  12  35  35  35  35  35 ...  35  35  35  35  35  35  35   \n",
      "5     14  14  17  12  20  28  25  27  35  35 ...  35  35  35  35  35  35  35   \n",
      "6      3   7  12  35  35  35  35  35  35  35 ...  35  35  35  35  35  35  35   \n",
      "7     34  32   3  12  14  14  12  35  35  35 ...  35  35  35  35  35  35  35   \n",
      "8     14   7  13  30  35  35  35  35  35  35 ...  35  35  35  35  35  35  35   \n",
      "9      6   3  12  32  30   3   7   2  11  27 ...  35  35  35  35  35  35  35   \n",
      "10    14  14  14   3   7  12   6   2  35  35 ...  35  35  35  35  35  35  35   \n",
      "11    32  14  30   6   3  12   6  14  35  35 ...  35  35  35  35  35  35  35   \n",
      "12    32   7  30   6  14  35  35  35  35  35 ...  35  35  35  35  35  35  35   \n",
      "13    14  12  31   2  13   6  29  35  35  35 ...  35  35  35  35  35  35  35   \n",
      "14    34   7  13  31  30  30  14  35  35  35 ...  35  35  35  35  35  35  35   \n",
      "15     6  12  35  35  35  35  35  35  35  35 ...  35  35  35  35  35  35  35   \n",
      "16     6  19  13  28  30  30   6   7  13   1 ...  35  35  35  35  35  35  35   \n",
      "17    34  12   6   7  28  14  12  35  35  35 ...  35  35  35  35  35  35  35   \n",
      "18    18  32   3  12  33  32   6   3   8  12 ...  35  35  35  35  35  35  35   \n",
      "19     3  14   6  14  14  12   7  35  35  35 ...  35  35  35  35  35  35  35   \n",
      "20     6   3  12   6   2  35  35  35  35  35 ...  35  35  35  35  35  35  35   \n",
      "21    14  28   3   7  12   6  12   6  14   1 ...  35  35  35  35  35  35  35   \n",
      "22    34  28   3  12  29   7   1  20  30  13 ...  35  35  35  35  35  35  35   \n",
      "23    36  28  27  13  31  29   6  12  13  35 ...  35  35  35  35  35  35  35   \n",
      "24     6  36  32  14  30   3  12  35  35  35 ...  35  35  35  35  35  35  35   \n",
      "25    28  18   7   6   3  12  20  28   7  12 ...  35  35  35  35  35  35  35   \n",
      "26    34  32   3  12  12  30  35  35  35  35 ...  35  35  35  35  35  35  35   \n",
      "27    14   6  14  14  32   3   7   7  12   6 ...  35  35  35  35  35  35  35   \n",
      "28     8   6   2   2  35  35  35  35  35  35 ...  35  35  35  35  35  35  35   \n",
      "29    32   3   7  12  31   3  12  12  35  35 ...  35  35  35  35  35  35  35   \n",
      "...   ..  ..  ..  ..  ..  ..  ..  ..  ..  .. ...  ..  ..  ..  ..  ..  ..  ..   \n",
      "1831  28   3  12  30   6   3  12  12   6   3 ...  35  35  35  35  35  35  35   \n",
      "1832  34  28   3   7  12   6  14  35  35  35 ...  35  35  35  35  35  35  35   \n",
      "1833  14  14  14  12  35  35  35  35  35  35 ...  35  35  35  35  35  35  35   \n",
      "1834  11   3   7  12  27   3   7  12  35  35 ...  35  35  35  35  35  35  35   \n",
      "1835  34  32  14  35  35  35  35  35  35  35 ...  35  35  35  35  35  35  35   \n",
      "1836  34  28   3  12   6   3   7  12   6  14 ...  35  35  35  35  35  35  35   \n",
      "1837   6   2  14  35  35  35  35  35  35  35 ...  35  35  35  35  35  35  35   \n",
      "1838   6   3  12   1   6  13  35  35  35  35 ...  35  35  35  35  35  35  35   \n",
      "1839  34  32   3  12   6   3  12  14  35  35 ...  35  35  35  35  35  35  35   \n",
      "1840  18  32  12  32   3   7  12   1   6   3 ...  35  35  35  35  35  35  35   \n",
      "1841  36   7  31  12  13  31  35  35  35  35 ...  35  35  35  35  35  35  35   \n",
      "1842  14  28  30   6  14  14  14  25   3  14 ...  35  35  35  35  35  35  35   \n",
      "1843  31  13  20  31   7   6   3  12  12  35 ...  35  35  35  35  35  35  35   \n",
      "1844  36  28   7  13   6  14  35  35  35  35 ...  35  35  35  35  35  35  35   \n",
      "1845  14  14  14  14  14  28  30   6  14  14 ...  35  35  35  35  35  35  35   \n",
      "1846  14  32  30   3   7  12   6  14  29  13 ...  35  35  35  35  35  35  35   \n",
      "1847  14  14  14  14  14  14  35  35  35  35 ...  35  35  35  35  35  35  35   \n",
      "1848  13   1   7  13  35  35  35  35  35  35 ...  35  35  35  35  35  35  35   \n",
      "1849  14  14  28  30   6  14   1  14  14   1 ...  35  35  35  35  35  35  35   \n",
      "1850  27  13  27  12  20   6  13   6  12  35 ...  35  35  35  35  35  35  35   \n",
      "1851  34  32   3   7  12  17  12  12  35  35 ...  35  35  35  35  35  35  35   \n",
      "1852  36  31   7  13  21   7  35  35  35  35 ...  35  35  35  35  35  35  35   \n",
      "1853   3  12  35  35  35  35  35  35  35  35 ...  35  35  35  35  35  35  35   \n",
      "1854  14  14  14  27   3  12  35  35  35  35 ...  35  35  35  35  35  35  35   \n",
      "1855  31  13  27   3   8   6   7  12   6  29 ...  35  35  35  35  35  35  35   \n",
      "1856  14  14  14  27   3  14  14   6   2  35 ...  35  35  35  35  35  35  35   \n",
      "1857  14  14  28   6  14  14  35  35  35  35 ...  35  35  35  35  35  35  35   \n",
      "1858  18  31   7  19  12  35  35  35  35  35 ...  35  35  35  35  35  35  35   \n",
      "1859   3  14  20  32  25   3  13   6   3   7 ...  35  35  35  35  35  35  35   \n",
      "1860   3  14  35  35  35  35  35  35  35  35 ...  35  35  35  35  35  35  35   \n",
      "\n",
      "      66  67  68  \n",
      "0     35  35  35  \n",
      "1     35  35  35  \n",
      "2     35  35  35  \n",
      "3     35  35  35  \n",
      "4     35  35  35  \n",
      "5     35  35  35  \n",
      "6     35  35  35  \n",
      "7     35  35  35  \n",
      "8     35  35  35  \n",
      "9     35  35  35  \n",
      "10    35  35  35  \n",
      "11    35  35  35  \n",
      "12    35  35  35  \n",
      "13    35  35  35  \n",
      "14    35  35  35  \n",
      "15    35  35  35  \n",
      "16    35  35  35  \n",
      "17    35  35  35  \n",
      "18    35  35  35  \n",
      "19    35  35  35  \n",
      "20    35  35  35  \n",
      "21    35  35  35  \n",
      "22    35  35  35  \n",
      "23    35  35  35  \n",
      "24    35  35  35  \n",
      "25    35  35  35  \n",
      "26    35  35  35  \n",
      "27    35  35  35  \n",
      "28    35  35  35  \n",
      "29    35  35  35  \n",
      "...   ..  ..  ..  \n",
      "1831  35  35  35  \n",
      "1832  35  35  35  \n",
      "1833  35  35  35  \n",
      "1834  35  35  35  \n",
      "1835  35  35  35  \n",
      "1836  35  35  35  \n",
      "1837  35  35  35  \n",
      "1838  35  35  35  \n",
      "1839  35  35  35  \n",
      "1840  35  35  35  \n",
      "1841  35  35  35  \n",
      "1842  35  35  35  \n",
      "1843  35  35  35  \n",
      "1844  35  35  35  \n",
      "1845  35  35  35  \n",
      "1846  35  35  35  \n",
      "1847  35  35  35  \n",
      "1848  35  35  35  \n",
      "1849  35  35  35  \n",
      "1850  35  35  35  \n",
      "1851  35  35  35  \n",
      "1852  35  35  35  \n",
      "1853  35  35  35  \n",
      "1854  35  35  35  \n",
      "1855  35  35  35  \n",
      "1856  35  35  35  \n",
      "1857  35  35  35  \n",
      "1858  35  35  35  \n",
      "1859  35  35  35  \n",
      "1860  35  35  35  \n",
      "\n",
      "[1861 rows x 69 columns]\n"
     ]
    }
   ],
   "source": [
    "print(X_train_final)"
   ]
  },
  {
   "cell_type": "code",
   "execution_count": 157,
   "metadata": {},
   "outputs": [
    {
     "name": "stdout",
     "output_type": "stream",
     "text": [
      "(1861,)\n"
     ]
    }
   ],
   "source": [
    "print(y_train.shape)"
   ]
  },
  {
   "cell_type": "code",
   "execution_count": 162,
   "metadata": {},
   "outputs": [],
   "source": [
    "##\n",
    "## random forrest: selected due to high accuracy, and hasn't\n",
    "##     been implemented in the project.\n",
    "##\n",
    "clf=RandomForestClassifier(n_estimators=1000)\n",
    "\n",
    "tr0 = time()\n",
    "clf.fit(X_train_final, np.asarray(y_train))\n",
    "tr1 = time()\n",
    "y_pred=clf.predict(X_test_final)\n",
    "tr2 = time()"
   ]
  },
  {
   "cell_type": "code",
   "execution_count": 163,
   "metadata": {},
   "outputs": [
    {
     "data": {
      "text/plain": [
       "array([[216,  75],\n",
       "       [ 53, 122]], dtype=int64)"
      ]
     },
     "execution_count": 163,
     "metadata": {},
     "output_type": "execute_result"
    }
   ],
   "source": [
    "confusion_matrix(y_pred=y_pred, y_true=y_test)"
   ]
  },
  {
   "cell_type": "code",
   "execution_count": 164,
   "metadata": {},
   "outputs": [
    {
     "name": "stdout",
     "output_type": "stream",
     "text": [
      "Accuracy: 0.7253218884120172\n"
     ]
    }
   ],
   "source": [
    "print('Accuracy: {accuracy}'.format(accuracy=accuracy_score(y_test, y_pred)))"
   ]
  },
  {
   "cell_type": "code",
   "execution_count": 165,
   "metadata": {},
   "outputs": [
    {
     "name": "stdout",
     "output_type": "stream",
     "text": [
      "random forrest\n",
      "train: 3.642188549041748,\n",
      "predict: 0.2716519832611084\n"
     ]
    }
   ],
   "source": [
    "print('random forrest\\ntrain: {rf_train},\\npredict: {rf_predict}'.format(\n",
    "    rf_train=tr1-tr0,\n",
    "    rf_predict=tr2-tr1\n",
    "))"
   ]
  },
  {
   "cell_type": "code",
   "execution_count": 166,
   "metadata": {},
   "outputs": [
    {
     "data": {
      "text/plain": [
       "['model/random_forrest.pkl']"
      ]
     },
     "execution_count": 166,
     "metadata": {},
     "output_type": "execute_result"
    }
   ],
   "source": [
    "## export model\n",
    "if not path.exists('model'):\n",
    "    makedirs('model')\n",
    "joblib.dump(clf, 'model/random_forrest.pkl', compress=9)"
   ]
  },
  {
   "cell_type": "code",
   "execution_count": null,
   "metadata": {},
   "outputs": [],
   "source": []
  }
 ],
 "metadata": {
  "kernelspec": {
   "display_name": "Python 3",
   "language": "python",
   "name": "python3"
  },
  "language_info": {
   "codemirror_mode": {
    "name": "ipython",
    "version": 3
   },
   "file_extension": ".py",
   "mimetype": "text/x-python",
   "name": "python",
   "nbconvert_exporter": "python",
   "pygments_lexer": "ipython3",
   "version": "3.6.7"
  }
 },
 "nbformat": 4,
 "nbformat_minor": 2
}
