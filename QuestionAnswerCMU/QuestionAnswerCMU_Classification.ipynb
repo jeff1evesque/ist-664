{
 "cells": [
  {
   "cell_type": "code",
   "execution_count": 1,
   "metadata": {},
   "outputs": [],
   "source": [
    "import pandas as pd\n",
    "import numpy as np\n",
    "from nltk import tag, word_tokenize\n",
    "from sklearn.model_selection import train_test_split\n",
    "from sklearn.ensemble import RandomForestClassifier"
   ]
  },
  {
   "cell_type": "code",
   "execution_count": 2,
   "metadata": {},
   "outputs": [],
   "source": [
    "## load data\n",
    "df = pd.read_csv('data/S10/question_answer_pairs.txt', sep='\\\\t', engine='python').dropna()\n",
    "\n",
    "questions = df['Question']\n",
    "answers = df['Answer']"
   ]
  },
  {
   "cell_type": "code",
   "execution_count": 71,
   "metadata": {},
   "outputs": [],
   "source": [
    "##\n",
    "## categorization of penn-tree\n",
    "##\n",
    "## - https://www.ling.upenn.edu/courses/Fall_2003/ling001/penn_treebank_pos.html\n",
    "##\n",
    "penn_scale = {\n",
    "    'CC': 1,\n",
    "    'CD': 2,\n",
    "    'DT': 3, \n",
    "    'EX': 4,\n",
    "    'FW': 5,\n",
    "    'IN': 6,\n",
    "    'JJ': 7,\n",
    "    'JJR': 8,\n",
    "    'JJS': 9,\n",
    "    'LS': 10,\n",
    "    'MD': 11,\n",
    "    'NN': 12,\n",
    "    'NNS': 13,\n",
    "    'NNP': 14,\n",
    "    'NNPS': 15,\n",
    "    'PDT': 16,\n",
    "    'POS': 17,\n",
    "    'PRP': 18,\n",
    "    'PRP$': 19,\n",
    "    'RB': 20,\n",
    "    'RBR': 21,\n",
    "    'RBS': 22,\n",
    "    'RP': 23,\n",
    "    'SYM': 24,\n",
    "    'TO': 25,\n",
    "    'UH': 26,\n",
    "    'VB': 27,\n",
    "    'VBD': 28,\n",
    "    'VBG': 29,\n",
    "    'VBN': 30,\n",
    "    'VBP': 31,\n",
    "    'VBZ': 32,\n",
    "    'WDT': 33,\n",
    "    'WP': 34,\n",
    "    'WP$': 35,\n",
    "    'WRB': 36\n",
    "}\n",
    "\n",
    "def tokenizer(sentence):\n",
    "    '''\n",
    "\n",
    "    penn-tree: tokenize + parts of speech\n",
    "\n",
    "    '''\n",
    "\n",
    "    sent = word_tokenize(sentence)\n",
    "    pos = tag.pos_tag(sent)\n",
    "    return([x[1] for x in pos if x[1] and x[1] in penn_scale])\n",
    "\n",
    "def replace(list, dictionary):\n",
    "    '''\n",
    "\n",
    "    replace list item with corresponding dict value\n",
    "\n",
    "    '''\n",
    "\n",
    "    return [dictionary.get(item, item) for item in list]"
   ]
  },
  {
   "cell_type": "code",
   "execution_count": 72,
   "metadata": {},
   "outputs": [],
   "source": [
    "##\n",
    "## order of appending 'pos' (1) must match the order of appending\n",
    "##     the 'sent_type' (2) sentence type.\n",
    "##\n",
    "\n",
    "## (1) pos: combine questions + answers\n",
    "questions_pos = questions.apply(tokenizer)\n",
    "questions_unique = [replace(list(x), penn_scale)  for x in set(tuple(x) for x in questions_pos)]\n",
    "\n",
    "answers_pos = answers.apply(tokenizer)\n",
    "answers_unique = [replace(list(x), penn_scale) for x in set(tuple(x) for x in answers_pos)]\n",
    "\n",
    "## append data\n",
    "pos = answers_unique + questions_unique\n",
    "\n",
    "## (2) sentence type\n",
    "sent_type = []\n",
    "for i in range(len(questions_unique)):\n",
    "    sent_type.append('0')\n",
    "\n",
    "for j in range(len(answers_unique)):\n",
    "    sent_type.append('1')"
   ]
  },
  {
   "cell_type": "code",
   "execution_count": 73,
   "metadata": {},
   "outputs": [
    {
     "name": "stdout",
     "output_type": "stream",
     "text": [
      "X_train: (864,), y_train: (864,)\n",
      "X_test: (217,), y_test: (217,)\n"
     ]
    }
   ],
   "source": [
    "## adjusted dataset\n",
    "df_adjusted = pd.DataFrame({\n",
    "    'pos': pos,\n",
    "    'type': sent_type\n",
    "})\n",
    "\n",
    "## train + test\n",
    "X_train, X_test, y_train, y_test = train_test_split(\n",
    "    df_adjusted['pos'],\n",
    "    df_adjusted['type'],\n",
    "    test_size=0.2\n",
    ")\n",
    "\n",
    "## print shape\n",
    "print('X_train: {X}, y_train: {y}'.format(\n",
    "    X=X_train.shape,\n",
    "    y=y_train.shape\n",
    "))\n",
    "\n",
    "print('X_test: {X}, y_test: {y}'.format(\n",
    "    X=X_test.shape,\n",
    "    y=y_test.shape\n",
    "))"
   ]
  },
  {
   "cell_type": "code",
   "execution_count": 74,
   "metadata": {},
   "outputs": [
    {
     "data": {
      "text/plain": [
       "697                    [34, 32, 3, 7, 12, 12, 6, 14, 37]\n",
       "589                      [36, 7, 13, 31, 14, 13, 31, 37]\n",
       "101                                             [12, 12]\n",
       "75                                          [30, 12, 37]\n",
       "615                          [36, 28, 14, 27, 7, 12, 37]\n",
       "914                              [36, 31, 9, 13, 12, 37]\n",
       "441                                  [14, 14, 14, 14, 2]\n",
       "888    [34, 32, 3, 7, 7, 12, 30, 6, 3, 14, 17, 14, 6,...\n",
       "204              [4, 31, 7, 7, 13, 6, 14, 1, 14, 14, 37]\n",
       "787                           [36, 32, 3, 7, 14, 12, 37]\n",
       "Name: pos, dtype: object"
      ]
     },
     "execution_count": 74,
     "metadata": {},
     "output_type": "execute_result"
    }
   ],
   "source": [
    "X_train.head(10)"
   ]
  },
  {
   "cell_type": "code",
   "execution_count": 75,
   "metadata": {},
   "outputs": [
    {
     "data": {
      "text/plain": [
       "697    1\n",
       "589    1\n",
       "101    0\n",
       "75     0\n",
       "615    1\n",
       "914    1\n",
       "441    0\n",
       "888    1\n",
       "204    0\n",
       "787    1\n",
       "Name: type, dtype: object"
      ]
     },
     "execution_count": 75,
     "metadata": {},
     "output_type": "execute_result"
    }
   ],
   "source": [
    "y_train.head(10)"
   ]
  },
  {
   "cell_type": "code",
   "execution_count": 76,
   "metadata": {},
   "outputs": [],
   "source": [
    "## ensure nested lists same length\n",
    "length = len(sorted(X_train, key=len, reverse=True)[0])\n",
    "X_train_final=np.array([xi+[None]*(length-len(xi)) for xi in X_train])\n",
    "X_train_final=pd.DataFrame(X_train_final)"
   ]
  },
  {
   "cell_type": "code",
   "execution_count": 77,
   "metadata": {},
   "outputs": [
    {
     "name": "stdout",
     "output_type": "stream",
     "text": [
      "     0   1     2     3     4     5     6     7     8     9   ...     37    38  \\\n",
      "0    34  32     3     7    12    12     6    14    37  None  ...   None  None   \n",
      "1    36   7    13    31    14    13    31    37  None  None  ...   None  None   \n",
      "2    12  12  None  None  None  None  None  None  None  None  ...   None  None   \n",
      "3    30  12    37  None  None  None  None  None  None  None  ...   None  None   \n",
      "4    36  28    14    27     7    12    37  None  None  None  ...   None  None   \n",
      "5    36  31     9    13    12    37  None  None  None  None  ...   None  None   \n",
      "6    14  14    14    14     2  None  None  None  None  None  ...   None  None   \n",
      "7    34  32     3     7     7    12    30     6     3    14  ...   None  None   \n",
      "8     4  31     7     7    13     6    14     1    14    14  ...   None  None   \n",
      "9    36  32     3     7    14    12    37  None  None  None  ...   None  None   \n",
      "10    3  12    12  None  None  None  None  None  None  None  ...   None  None   \n",
      "11   34  32     3    12     6     3    12    33    32     3  ...   None  None   \n",
      "12   12  38    12    38     1    13  None  None  None  None  ...   None  None   \n",
      "13   36   7    12    13    31     6    14    14    37  None  ...   None  None   \n",
      "14   26  38     3     7    12     6     3     7    12    32  ...   None  None   \n",
      "15    6  18     7     6     3    12    28    14     6     3  ...   None  None   \n",
      "16    6  14    17     7    12     6     2    38    14    12  ...   None  None   \n",
      "17   34  32    32    14    14    27    37  None  None  None  ...   None  None   \n",
      "18   14  14    31     7    12     6    19    12    37  None  ...   None  None   \n",
      "19   14  14    27    25    27    20     6     7    12    14  ...   None  None   \n",
      "20   34  31     3     7    13    33    31    13    30    37  ...   None  None   \n",
      "21   34  31     3     6     3    12    17     7    12    13  ...   None  None   \n",
      "22   18  28    20    27     3    12    37  None  None  None  ...   None  None   \n",
      "23   14   1    14    14  None  None  None  None  None  None  ...   None  None   \n",
      "24    3  14    14    14     (    14     )    20    32     3  ...   None  None   \n",
      "25   34  32     3     7    12     6    12     6     7    13  ...   None  None   \n",
      "26   32   3    12     6     3     7    12    12    25    19  ...   None  None   \n",
      "27   11   3     7    12    13    31     3    12    13    37  ...   None  None   \n",
      "28   14  14    14    38    20    28    ``    14    ''  None  ...   None  None   \n",
      "29   29  12  None  None  None  None  None  None  None  None  ...   None  None   \n",
      "..   ..  ..   ...   ...   ...   ...   ...   ...   ...   ...  ...    ...   ...   \n",
      "834   3  12    32    20    30     6     3    12    12    37  ...   None  None   \n",
      "835  14  14    27     3     7    12    25    27     3     7  ...   None  None   \n",
      "836   3   2     9    13     6     3    12    31     3    12  ...   None  None   \n",
      "837  34  28     3    13     6     3     7    12    30     6  ...   None  None   \n",
      "838  34  32    23    13    37  None  None  None  None  None  ...   None  None   \n",
      "839  11   3     7    27    30     6     7     7    12    13  ...   None  None   \n",
      "840   9  12     6    14  None  None  None  None  None  None  ...   None  None   \n",
      "841  14  14    14    31     3    12    30    12    12    37  ...   None  None   \n",
      "842  32  14     6    14    37  None  None  None  None  None  ...   None  None   \n",
      "843  32   3     7    12     6     3     7    12    28     3  ...   None  None   \n",
      "844  36  11    27    12     6    14    32    20    31     6  ...   None  None   \n",
      "845  14  14    14    12     6     7    13    37  None  None  ...   None  None   \n",
      "846  36  11     3    12    17    12    27    30    37  None  ...   None  None   \n",
      "847   3  12    32     3    12     6    34    12    37  None  ...   None  None   \n",
      "848   6  36     7    13    31    30    25    27     6    14  ...   None  None   \n",
      "849   2  25     2    13  None  None  None  None  None  None  ...   None  None   \n",
      "850  14  28    30     6    14     6    29    25    14    37  ...   None  None   \n",
      "851  14  13    31    20    30     6    12     1    12    37  ...   None  None   \n",
      "852  34  28     3    12    25    27    19    12    13  None  ...   None  None   \n",
      "853  31  13    31    30    30     6    12    13    37  None  ...   None  None   \n",
      "854  32  14     3     7    12    37  None  None  None  None  ...   None  None   \n",
      "855  34  32    32     3    12    12    19     7    12    37  ...   None  None   \n",
      "856  34  12    28     3     7     7    12    37  None  None  ...   None  None   \n",
      "857   3   7    12    14  None  None  None  None  None  None  ...   None  None   \n",
      "858  34  32     3    22     7    12     6    13    37  None  ...   None  None   \n",
      "859  36   7     7    13    31     7    13    31    37  None  ...   None  None   \n",
      "860  12   6     7    12  None  None  None  None  None  None  ...   None  None   \n",
      "861  36  25    27    25    27     6     3    12    25    14  ...   None  None   \n",
      "862   3  12     6     3    12    32     6     3    12    12  ...   None  None   \n",
      "863   3  12    17    12    11    27    30     6    29    19  ...   None  None   \n",
      "\n",
      "       39    40    41    42    43    44    45    46  \n",
      "0    None  None  None  None  None  None  None  None  \n",
      "1    None  None  None  None  None  None  None  None  \n",
      "2    None  None  None  None  None  None  None  None  \n",
      "3    None  None  None  None  None  None  None  None  \n",
      "4    None  None  None  None  None  None  None  None  \n",
      "5    None  None  None  None  None  None  None  None  \n",
      "6    None  None  None  None  None  None  None  None  \n",
      "7    None  None  None  None  None  None  None  None  \n",
      "8    None  None  None  None  None  None  None  None  \n",
      "9    None  None  None  None  None  None  None  None  \n",
      "10   None  None  None  None  None  None  None  None  \n",
      "11   None  None  None  None  None  None  None  None  \n",
      "12   None  None  None  None  None  None  None  None  \n",
      "13   None  None  None  None  None  None  None  None  \n",
      "14   None  None  None  None  None  None  None  None  \n",
      "15   None  None  None  None  None  None  None  None  \n",
      "16   None  None  None  None  None  None  None  None  \n",
      "17   None  None  None  None  None  None  None  None  \n",
      "18   None  None  None  None  None  None  None  None  \n",
      "19   None  None  None  None  None  None  None  None  \n",
      "20   None  None  None  None  None  None  None  None  \n",
      "21   None  None  None  None  None  None  None  None  \n",
      "22   None  None  None  None  None  None  None  None  \n",
      "23   None  None  None  None  None  None  None  None  \n",
      "24   None  None  None  None  None  None  None  None  \n",
      "25   None  None  None  None  None  None  None  None  \n",
      "26   None  None  None  None  None  None  None  None  \n",
      "27   None  None  None  None  None  None  None  None  \n",
      "28   None  None  None  None  None  None  None  None  \n",
      "29   None  None  None  None  None  None  None  None  \n",
      "..    ...   ...   ...   ...   ...   ...   ...   ...  \n",
      "834  None  None  None  None  None  None  None  None  \n",
      "835  None  None  None  None  None  None  None  None  \n",
      "836  None  None  None  None  None  None  None  None  \n",
      "837  None  None  None  None  None  None  None  None  \n",
      "838  None  None  None  None  None  None  None  None  \n",
      "839  None  None  None  None  None  None  None  None  \n",
      "840  None  None  None  None  None  None  None  None  \n",
      "841  None  None  None  None  None  None  None  None  \n",
      "842  None  None  None  None  None  None  None  None  \n",
      "843  None  None  None  None  None  None  None  None  \n",
      "844  None  None  None  None  None  None  None  None  \n",
      "845  None  None  None  None  None  None  None  None  \n",
      "846  None  None  None  None  None  None  None  None  \n",
      "847  None  None  None  None  None  None  None  None  \n",
      "848  None  None  None  None  None  None  None  None  \n",
      "849  None  None  None  None  None  None  None  None  \n",
      "850  None  None  None  None  None  None  None  None  \n",
      "851  None  None  None  None  None  None  None  None  \n",
      "852  None  None  None  None  None  None  None  None  \n",
      "853  None  None  None  None  None  None  None  None  \n",
      "854  None  None  None  None  None  None  None  None  \n",
      "855  None  None  None  None  None  None  None  None  \n",
      "856  None  None  None  None  None  None  None  None  \n",
      "857  None  None  None  None  None  None  None  None  \n",
      "858  None  None  None  None  None  None  None  None  \n",
      "859  None  None  None  None  None  None  None  None  \n",
      "860  None  None  None  None  None  None  None  None  \n",
      "861  None  None  None  None  None  None  None  None  \n",
      "862  None  None  None  None  None  None  None  None  \n",
      "863  None  None  None  None  None  None  None  None  \n",
      "\n",
      "[864 rows x 47 columns]\n"
     ]
    }
   ],
   "source": [
    "print(X_train_final)"
   ]
  },
  {
   "cell_type": "code",
   "execution_count": 78,
   "metadata": {},
   "outputs": [
    {
     "ename": "ValueError",
     "evalue": "could not convert string to float: \"''\"",
     "output_type": "error",
     "traceback": [
      "\u001b[1;31m---------------------------------------------------------------------------\u001b[0m",
      "\u001b[1;31mValueError\u001b[0m                                Traceback (most recent call last)",
      "\u001b[1;32m<ipython-input-78-80325637f444>\u001b[0m in \u001b[0;36m<module>\u001b[1;34m\u001b[0m\n\u001b[0;32m      4\u001b[0m \u001b[1;31m##\u001b[0m\u001b[1;33m\u001b[0m\u001b[1;33m\u001b[0m\u001b[1;33m\u001b[0m\u001b[0m\n\u001b[0;32m      5\u001b[0m \u001b[0mclf\u001b[0m\u001b[1;33m=\u001b[0m\u001b[0mRandomForestClassifier\u001b[0m\u001b[1;33m(\u001b[0m\u001b[0mn_estimators\u001b[0m\u001b[1;33m=\u001b[0m\u001b[1;36m5\u001b[0m\u001b[1;33m)\u001b[0m\u001b[1;33m\u001b[0m\u001b[1;33m\u001b[0m\u001b[0m\n\u001b[1;32m----> 6\u001b[1;33m \u001b[0mclf\u001b[0m\u001b[1;33m.\u001b[0m\u001b[0mfit\u001b[0m\u001b[1;33m(\u001b[0m\u001b[0mX_train_final\u001b[0m\u001b[1;33m,\u001b[0m \u001b[0mnp\u001b[0m\u001b[1;33m.\u001b[0m\u001b[0masarray\u001b[0m\u001b[1;33m(\u001b[0m\u001b[0my_train\u001b[0m\u001b[1;33m)\u001b[0m\u001b[1;33m)\u001b[0m\u001b[1;33m\u001b[0m\u001b[1;33m\u001b[0m\u001b[0m\n\u001b[0m\u001b[0;32m      7\u001b[0m \u001b[1;31m#y_pred=clf.predict(X_test)\u001b[0m\u001b[1;33m\u001b[0m\u001b[1;33m\u001b[0m\u001b[1;33m\u001b[0m\u001b[0m\n",
      "\u001b[1;32m~\\Anaconda3\\lib\\site-packages\\sklearn\\ensemble\\forest.py\u001b[0m in \u001b[0;36mfit\u001b[1;34m(self, X, y, sample_weight)\u001b[0m\n\u001b[0;32m    248\u001b[0m \u001b[1;33m\u001b[0m\u001b[0m\n\u001b[0;32m    249\u001b[0m         \u001b[1;31m# Validate or convert input data\u001b[0m\u001b[1;33m\u001b[0m\u001b[1;33m\u001b[0m\u001b[1;33m\u001b[0m\u001b[0m\n\u001b[1;32m--> 250\u001b[1;33m         \u001b[0mX\u001b[0m \u001b[1;33m=\u001b[0m \u001b[0mcheck_array\u001b[0m\u001b[1;33m(\u001b[0m\u001b[0mX\u001b[0m\u001b[1;33m,\u001b[0m \u001b[0maccept_sparse\u001b[0m\u001b[1;33m=\u001b[0m\u001b[1;34m\"csc\"\u001b[0m\u001b[1;33m,\u001b[0m \u001b[0mdtype\u001b[0m\u001b[1;33m=\u001b[0m\u001b[0mDTYPE\u001b[0m\u001b[1;33m)\u001b[0m\u001b[1;33m\u001b[0m\u001b[1;33m\u001b[0m\u001b[0m\n\u001b[0m\u001b[0;32m    251\u001b[0m         \u001b[0my\u001b[0m \u001b[1;33m=\u001b[0m \u001b[0mcheck_array\u001b[0m\u001b[1;33m(\u001b[0m\u001b[0my\u001b[0m\u001b[1;33m,\u001b[0m \u001b[0maccept_sparse\u001b[0m\u001b[1;33m=\u001b[0m\u001b[1;34m'csc'\u001b[0m\u001b[1;33m,\u001b[0m \u001b[0mensure_2d\u001b[0m\u001b[1;33m=\u001b[0m\u001b[1;32mFalse\u001b[0m\u001b[1;33m,\u001b[0m \u001b[0mdtype\u001b[0m\u001b[1;33m=\u001b[0m\u001b[1;32mNone\u001b[0m\u001b[1;33m)\u001b[0m\u001b[1;33m\u001b[0m\u001b[1;33m\u001b[0m\u001b[0m\n\u001b[0;32m    252\u001b[0m         \u001b[1;32mif\u001b[0m \u001b[0msample_weight\u001b[0m \u001b[1;32mis\u001b[0m \u001b[1;32mnot\u001b[0m \u001b[1;32mNone\u001b[0m\u001b[1;33m:\u001b[0m\u001b[1;33m\u001b[0m\u001b[1;33m\u001b[0m\u001b[0m\n",
      "\u001b[1;32m~\\Anaconda3\\lib\\site-packages\\sklearn\\utils\\validation.py\u001b[0m in \u001b[0;36mcheck_array\u001b[1;34m(array, accept_sparse, accept_large_sparse, dtype, order, copy, force_all_finite, ensure_2d, allow_nd, ensure_min_samples, ensure_min_features, warn_on_dtype, estimator)\u001b[0m\n\u001b[0;32m    525\u001b[0m             \u001b[1;32mtry\u001b[0m\u001b[1;33m:\u001b[0m\u001b[1;33m\u001b[0m\u001b[1;33m\u001b[0m\u001b[0m\n\u001b[0;32m    526\u001b[0m                 \u001b[0mwarnings\u001b[0m\u001b[1;33m.\u001b[0m\u001b[0msimplefilter\u001b[0m\u001b[1;33m(\u001b[0m\u001b[1;34m'error'\u001b[0m\u001b[1;33m,\u001b[0m \u001b[0mComplexWarning\u001b[0m\u001b[1;33m)\u001b[0m\u001b[1;33m\u001b[0m\u001b[1;33m\u001b[0m\u001b[0m\n\u001b[1;32m--> 527\u001b[1;33m                 \u001b[0marray\u001b[0m \u001b[1;33m=\u001b[0m \u001b[0mnp\u001b[0m\u001b[1;33m.\u001b[0m\u001b[0masarray\u001b[0m\u001b[1;33m(\u001b[0m\u001b[0marray\u001b[0m\u001b[1;33m,\u001b[0m \u001b[0mdtype\u001b[0m\u001b[1;33m=\u001b[0m\u001b[0mdtype\u001b[0m\u001b[1;33m,\u001b[0m \u001b[0morder\u001b[0m\u001b[1;33m=\u001b[0m\u001b[0morder\u001b[0m\u001b[1;33m)\u001b[0m\u001b[1;33m\u001b[0m\u001b[1;33m\u001b[0m\u001b[0m\n\u001b[0m\u001b[0;32m    528\u001b[0m             \u001b[1;32mexcept\u001b[0m \u001b[0mComplexWarning\u001b[0m\u001b[1;33m:\u001b[0m\u001b[1;33m\u001b[0m\u001b[1;33m\u001b[0m\u001b[0m\n\u001b[0;32m    529\u001b[0m                 raise ValueError(\"Complex data not supported\\n\"\n",
      "\u001b[1;32m~\\Anaconda3\\lib\\site-packages\\numpy\\core\\numeric.py\u001b[0m in \u001b[0;36masarray\u001b[1;34m(a, dtype, order)\u001b[0m\n\u001b[0;32m    480\u001b[0m \u001b[1;33m\u001b[0m\u001b[0m\n\u001b[0;32m    481\u001b[0m     \"\"\"\n\u001b[1;32m--> 482\u001b[1;33m     \u001b[1;32mreturn\u001b[0m \u001b[0marray\u001b[0m\u001b[1;33m(\u001b[0m\u001b[0ma\u001b[0m\u001b[1;33m,\u001b[0m \u001b[0mdtype\u001b[0m\u001b[1;33m,\u001b[0m \u001b[0mcopy\u001b[0m\u001b[1;33m=\u001b[0m\u001b[1;32mFalse\u001b[0m\u001b[1;33m,\u001b[0m \u001b[0morder\u001b[0m\u001b[1;33m=\u001b[0m\u001b[0morder\u001b[0m\u001b[1;33m)\u001b[0m\u001b[1;33m\u001b[0m\u001b[1;33m\u001b[0m\u001b[0m\n\u001b[0m\u001b[0;32m    483\u001b[0m \u001b[1;33m\u001b[0m\u001b[0m\n\u001b[0;32m    484\u001b[0m \u001b[1;32mdef\u001b[0m \u001b[0masanyarray\u001b[0m\u001b[1;33m(\u001b[0m\u001b[0ma\u001b[0m\u001b[1;33m,\u001b[0m \u001b[0mdtype\u001b[0m\u001b[1;33m=\u001b[0m\u001b[1;32mNone\u001b[0m\u001b[1;33m,\u001b[0m \u001b[0morder\u001b[0m\u001b[1;33m=\u001b[0m\u001b[1;32mNone\u001b[0m\u001b[1;33m)\u001b[0m\u001b[1;33m:\u001b[0m\u001b[1;33m\u001b[0m\u001b[1;33m\u001b[0m\u001b[0m\n",
      "\u001b[1;31mValueError\u001b[0m: could not convert string to float: \"''\""
     ]
    }
   ],
   "source": [
    "##\n",
    "## random forrest: selected due to high accuracy, and hasn't\n",
    "##     been implemented in the project.\n",
    "##\n",
    "clf=RandomForestClassifier(n_estimators=5)\n",
    "clf.fit(X_train_final, np.asarray(y_train))\n",
    "#y_pred=clf.predict(X_test)"
   ]
  },
  {
   "cell_type": "code",
   "execution_count": null,
   "metadata": {},
   "outputs": [],
   "source": []
  }
 ],
 "metadata": {
  "kernelspec": {
   "display_name": "Python 3",
   "language": "python",
   "name": "python3"
  },
  "language_info": {
   "codemirror_mode": {
    "name": "ipython",
    "version": 3
   },
   "file_extension": ".py",
   "mimetype": "text/x-python",
   "name": "python",
   "nbconvert_exporter": "python",
   "pygments_lexer": "ipython3",
   "version": "3.6.7"
  }
 },
 "nbformat": 4,
 "nbformat_minor": 2
}
