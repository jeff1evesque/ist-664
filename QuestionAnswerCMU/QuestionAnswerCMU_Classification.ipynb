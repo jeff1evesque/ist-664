{
 "cells": [
  {
   "cell_type": "code",
   "execution_count": 1,
   "metadata": {},
   "outputs": [],
   "source": [
    "import pandas as pd\n",
    "import numpy as np\n",
    "from time import time\n",
    "from os import path, makedirs\n",
    "from sklearn.model_selection import train_test_split\n",
    "from sklearn.ensemble import RandomForestClassifier\n",
    "from sklearn.metrics import accuracy_score, confusion_matrix\n",
    "from sklearn.externals import joblib\n",
    "from utility import normalize_data, tokenizer, replace, penn_scale"
   ]
  },
  {
   "cell_type": "code",
   "execution_count": 2,
   "metadata": {},
   "outputs": [],
   "source": [
    "## load data\n",
    "df1 = pd.read_csv('data/S08/question_answer_pairs.txt', sep='\\\\t', engine='python').dropna()\n",
    "df2 = pd.read_csv('data/S09/question_answer_pairs.txt', sep='\\\\t', engine='python').dropna()\n",
    "df3 = pd.read_csv('data/S10/question_answer_pairs.txt', sep='\\\\t', engine='python').dropna()\n",
    "frames = [df1, df2, df3]\n",
    "df = pd.concat(frames)\n",
    "\n",
    "questions = df['Question']\n",
    "answers = df['Answer']"
   ]
  },
  {
   "cell_type": "code",
   "execution_count": 3,
   "metadata": {},
   "outputs": [],
   "source": [
    "##\n",
    "## order of appending 'pos' (1) must match the order of appending\n",
    "##     the 'sent_type' (2) sentence type.\n",
    "##\n",
    "\n",
    "## (1) pos: combine questions + answers\n",
    "questions_pos = questions.apply(tokenizer)\n",
    "questions_unique = [replace(list(x), penn_scale())  for x in set(tuple(x) for x in questions_pos)]\n",
    "\n",
    "answers_pos = answers.apply(tokenizer)\n",
    "answers_unique = [replace(list(x), penn_scale()) for x in set(tuple(x) for x in answers_pos)]\n",
    "\n",
    "## append data\n",
    "pos = answers_unique + questions_unique\n",
    "\n",
    "## (2) sentence type\n",
    "sent_type = []\n",
    "for i in range(len(questions_unique)):\n",
    "    sent_type.append('0')\n",
    "\n",
    "for j in range(len(answers_unique)):\n",
    "    sent_type.append('1')"
   ]
  },
  {
   "cell_type": "code",
   "execution_count": 4,
   "metadata": {},
   "outputs": [
    {
     "name": "stdout",
     "output_type": "stream",
     "text": [
      "X_train: (1861,), y_train: (1861,)\n",
      "X_test: (466,), y_test: (466,)\n"
     ]
    }
   ],
   "source": [
    "## adjusted dataset\n",
    "df_adjusted = pd.DataFrame({\n",
    "    'pos': pos,\n",
    "    'type': sent_type\n",
    "})\n",
    "\n",
    "## train + test\n",
    "X_train, X_test, y_train, y_test = train_test_split(\n",
    "    df_adjusted['pos'],\n",
    "    df_adjusted['type'],\n",
    "    test_size=0.2\n",
    ")\n",
    "\n",
    "## print shape\n",
    "print('X_train: {X}, y_train: {y}'.format(\n",
    "    X=X_train.shape,\n",
    "    y=y_train.shape\n",
    "))\n",
    "\n",
    "print('X_test: {X}, y_test: {y}'.format(\n",
    "    X=X_test.shape,\n",
    "    y=y_test.shape\n",
    "))"
   ]
  },
  {
   "cell_type": "code",
   "execution_count": 5,
   "metadata": {},
   "outputs": [
    {
     "data": {
      "text/plain": [
       "1389                 [34, 31, 3, 2, 13, 6, 3, 14, 14, 32]\n",
       "570                            [7, 13, 1, 12, 30, 23, 13]\n",
       "643     [3, 12, 6, 3, 14, 14, 12, 28, 30, 6, 3, 12, 6,...\n",
       "682                                   [18, 32, 30, 6, 13]\n",
       "1377                             [14, 4, 3, 12, 12, 6, 2]\n",
       "728     [3, 14, 12, 28, 30, 25, 20, 6, 3, 12, 17, 12, ...\n",
       "1575                      [34, 31, 30, 13, 20, 30, 30, 6]\n",
       "1457                  [36, 28, 3, 7, 7, 13, 31, 6, 3, 12]\n",
       "662                           [3, 12, 13, 31, 20, 27, 13]\n",
       "2017                   [36, 7, 13, 32, 14, 28, 3, 14, 14]\n",
       "Name: pos, dtype: object"
      ]
     },
     "execution_count": 5,
     "metadata": {},
     "output_type": "execute_result"
    }
   ],
   "source": [
    "X_train.head(10)"
   ]
  },
  {
   "cell_type": "code",
   "execution_count": 6,
   "metadata": {},
   "outputs": [
    {
     "data": {
      "text/plain": [
       "1389    0\n",
       "570     0\n",
       "643     0\n",
       "682     0\n",
       "1377    0\n",
       "728     0\n",
       "1575    1\n",
       "1457    1\n",
       "662     0\n",
       "2017    1\n",
       "Name: type, dtype: object"
      ]
     },
     "execution_count": 6,
     "metadata": {},
     "output_type": "execute_result"
    }
   ],
   "source": [
    "y_train.head(10)"
   ]
  },
  {
   "cell_type": "code",
   "execution_count": 7,
   "metadata": {},
   "outputs": [],
   "source": [
    "## stop gap: used for column padding\n",
    "stop_gap = 40"
   ]
  },
  {
   "cell_type": "code",
   "execution_count": 8,
   "metadata": {},
   "outputs": [],
   "source": [
    "## normalize datasets\n",
    "X_train_final, X_test_final = normalize_data(X_train, X_test, stop_gap=40)"
   ]
  },
  {
   "cell_type": "code",
   "execution_count": 9,
   "metadata": {},
   "outputs": [
    {
     "name": "stdout",
     "output_type": "stream",
     "text": [
      "   0   1   2   3   4   5   6   7   8   9  ...  30  31  32  33  34  35  36  37  \\\n",
      "0  34  31   3   2  13   6   3  14  14  32 ...  40  40  40  40  40  40  40  40   \n",
      "1   7  13   1  12  30  23  13  40  40  40 ...  40  40  40  40  40  40  40  40   \n",
      "2   3  12   6   3  14  14  12  28  30   6 ...  40  40  40  40  40  40  40  40   \n",
      "3  18  32  30   6  13  40  40  40  40  40 ...  40  40  40  40  40  40  40  40   \n",
      "4  14   4   3  12  12   6   2  40  40  40 ...  40  40  40  40  40  40  40  40   \n",
      "5   3  14  12  28  30  25  20   6   3  12 ...  40  40  40  40  40  40  40  40   \n",
      "6  34  31  30  13  20  30  30   6  40  40 ...  40  40  40  40  40  40  40  40   \n",
      "7  36  28   3   7   7  13  31   6   3  12 ...  40  40  40  40  40  40  40  40   \n",
      "8   3  12  13  31  20  27  13  40  40  40 ...  40  40  40  40  40  40  40  40   \n",
      "9  36   7  13  32  14  28   3  14  14  40 ...  40  40  40  40  40  40  40  40   \n",
      "\n",
      "   38  39  \n",
      "0  40  40  \n",
      "1  40  40  \n",
      "2  40  40  \n",
      "3  40  40  \n",
      "4  40  40  \n",
      "5  40  40  \n",
      "6  40  40  \n",
      "7  40  40  \n",
      "8  40  40  \n",
      "9  40  40  \n",
      "\n",
      "[10 rows x 40 columns]\n",
      "   0   1   2   3   4   5   6   7   8   9  ...  30  31  32  33  34  35  36  37  \\\n",
      "0   3  12   6  29   1  29   3  12  34  28 ...  40  40  40  40  40  40  40  40   \n",
      "1   3  40  40  40  40  40  40  40  40  40 ...  40  40  40  40  40  40  40  40   \n",
      "2   8   6   2   2  13  40  40  40  40  40 ...  40  40  40  40  40  40  40  40   \n",
      "3   3   2  13  31  14  14   1  14  40  40 ...  40  40  40  40  40  40  40  40   \n",
      "4  14  14  28  14  40  40  40  40  40  40 ...  40  40  40  40  40  40  40  40   \n",
      "5  14   3  12   6   3  14   6  14  40  40 ...  40  40  40  40  40  40  40  40   \n",
      "6  34  28  19  12  40  40  40  40  40  40 ...  40  40  40  40  40  40  40  40   \n",
      "7  34  31   3  13   6  29   7  13  40  40 ...  40  40  40  40  40  40  40  40   \n",
      "8  32  14   3  12   6   3   7  12  40  40 ...  40  40  40  40  40  40  40  40   \n",
      "9  14  32  30   7  13  40  40  40  40  40 ...  40  40  40  40  40  40  40  40   \n",
      "\n",
      "   38  39  \n",
      "0  40  40  \n",
      "1  40  40  \n",
      "2  40  40  \n",
      "3  40  40  \n",
      "4  40  40  \n",
      "5  40  40  \n",
      "6  40  40  \n",
      "7  40  40  \n",
      "8  40  40  \n",
      "9  40  40  \n",
      "\n",
      "[10 rows x 40 columns]\n"
     ]
    }
   ],
   "source": [
    "print(X_train_final.head(10))\n",
    "print(X_test_final.head(10))"
   ]
  },
  {
   "cell_type": "code",
   "execution_count": 10,
   "metadata": {},
   "outputs": [],
   "source": [
    "##\n",
    "## random forrest: selected due to high accuracy, and hasn't\n",
    "##     been implemented in the project.\n",
    "##\n",
    "clf=RandomForestClassifier(n_estimators=1000)\n",
    "\n",
    "tr0 = time()\n",
    "clf.fit(X_train_final, np.asarray(y_train))\n",
    "tr1 = time()\n",
    "y_pred=clf.predict(X_test_final)\n",
    "tr2 = time()"
   ]
  },
  {
   "cell_type": "code",
   "execution_count": 11,
   "metadata": {},
   "outputs": [
    {
     "data": {
      "text/plain": [
       "array([[235,  49],\n",
       "       [ 57, 125]], dtype=int64)"
      ]
     },
     "execution_count": 11,
     "metadata": {},
     "output_type": "execute_result"
    }
   ],
   "source": [
    "confusion_matrix(y_pred=y_pred, y_true=y_test)"
   ]
  },
  {
   "cell_type": "code",
   "execution_count": 12,
   "metadata": {},
   "outputs": [
    {
     "name": "stdout",
     "output_type": "stream",
     "text": [
      "Accuracy: 0.7725321888412017\n"
     ]
    }
   ],
   "source": [
    "print('Accuracy: {accuracy}'.format(accuracy=accuracy_score(y_test, y_pred)))"
   ]
  },
  {
   "cell_type": "code",
   "execution_count": 13,
   "metadata": {},
   "outputs": [
    {
     "name": "stdout",
     "output_type": "stream",
     "text": [
      "random forrest\n",
      "train: 3.900865316390991,\n",
      "predict: 0.20032000541687012\n"
     ]
    }
   ],
   "source": [
    "print('random forrest\\ntrain: {rf_train},\\npredict: {rf_predict}'.format(\n",
    "    rf_train=tr1-tr0,\n",
    "    rf_predict=tr2-tr1\n",
    "))"
   ]
  },
  {
   "cell_type": "code",
   "execution_count": 14,
   "metadata": {},
   "outputs": [
    {
     "data": {
      "text/plain": [
       "['model/random_forest.pkl']"
      ]
     },
     "execution_count": 14,
     "metadata": {},
     "output_type": "execute_result"
    }
   ],
   "source": [
    "## export model\n",
    "if not path.exists('model'):\n",
    "    makedirs('model')\n",
    "joblib.dump(clf, 'model/random_forest.pkl')"
   ]
  }
 ],
 "metadata": {
  "kernelspec": {
   "display_name": "Python 3",
   "language": "python",
   "name": "python3"
  },
  "language_info": {
   "codemirror_mode": {
    "name": "ipython",
    "version": 3
   },
   "file_extension": ".py",
   "mimetype": "text/x-python",
   "name": "python",
   "nbconvert_exporter": "python",
   "pygments_lexer": "ipython3",
   "version": "3.6.7"
  }
 },
 "nbformat": 4,
 "nbformat_minor": 2
}
