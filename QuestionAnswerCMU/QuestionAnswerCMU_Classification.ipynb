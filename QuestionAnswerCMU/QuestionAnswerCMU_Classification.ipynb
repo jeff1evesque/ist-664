{
 "cells": [
  {
   "cell_type": "code",
   "execution_count": 295,
   "metadata": {},
   "outputs": [],
   "source": [
    "import pandas as pd\n",
    "import numpy as np\n",
    "from nltk import tag, word_tokenize\n",
    "from time import time\n",
    "from os import path, makedirs\n",
    "from sklearn.model_selection import train_test_split\n",
    "from sklearn.ensemble import RandomForestClassifier\n",
    "from sklearn.metrics import accuracy_score, confusion_matrix\n",
    "from sklearn.externals import joblib\n",
    "from utility import normalize_data"
   ]
  },
  {
   "cell_type": "code",
   "execution_count": 140,
   "metadata": {},
   "outputs": [],
   "source": [
    "## load data\n",
    "df1 = pd.read_csv('data/S08/question_answer_pairs.txt', sep='\\\\t', engine='python').dropna()\n",
    "df2 = pd.read_csv('data/S09/question_answer_pairs.txt', sep='\\\\t', engine='python').dropna()\n",
    "df3 = pd.read_csv('data/S10/question_answer_pairs.txt', sep='\\\\t', engine='python').dropna()\n",
    "frames = [df1, df2, df3]\n",
    "df = pd.concat(frames)\n",
    "\n",
    "questions = df['Question']\n",
    "answers = df['Answer']"
   ]
  },
  {
   "cell_type": "code",
   "execution_count": 141,
   "metadata": {},
   "outputs": [],
   "source": [
    "##\n",
    "## categorization of penn-tree\n",
    "##\n",
    "## - https://www.ling.upenn.edu/courses/Fall_2003/ling001/penn_treebank_pos.html\n",
    "##\n",
    "penn_scale = {\n",
    "    'CC': 1,\n",
    "    'CD': 2,\n",
    "    'DT': 3, \n",
    "    'EX': 4,\n",
    "    'FW': 5,\n",
    "    'IN': 6,\n",
    "    'JJ': 7,\n",
    "    'JJR': 8,\n",
    "    'JJS': 9,\n",
    "    'LS': 10,\n",
    "    'MD': 11,\n",
    "    'NN': 12,\n",
    "    'NNS': 13,\n",
    "    'NNP': 14,\n",
    "    'NNPS': 15,\n",
    "    'PDT': 16,\n",
    "    'POS': 17,\n",
    "    'PRP': 18,\n",
    "    'PRP$': 19,\n",
    "    'RB': 20,\n",
    "    'RBR': 21,\n",
    "    'RBS': 22,\n",
    "    'RP': 23,\n",
    "    'SYM': 24,\n",
    "    'TO': 25,\n",
    "    'UH': 26,\n",
    "    'VB': 27,\n",
    "    'VBD': 28,\n",
    "    'VBG': 29,\n",
    "    'VBN': 30,\n",
    "    'VBP': 31,\n",
    "    'VBZ': 32,\n",
    "    'WDT': 33,\n",
    "    'WP': 34,\n",
    "    'WP$': 35,\n",
    "    'WRB': 36\n",
    "}\n",
    "\n",
    "def tokenizer(sentence):\n",
    "    '''\n",
    "\n",
    "    penn-tree: tokenize + parts of speech\n",
    "\n",
    "    '''\n",
    "\n",
    "    sent = word_tokenize(sentence)\n",
    "    pos = tag.pos_tag(sent)\n",
    "    return([x[1] for x in pos if x[1] and x[1] in penn_scale])\n",
    "\n",
    "def replace(list, dictionary):\n",
    "    '''\n",
    "\n",
    "    replace list item with corresponding dict value\n",
    "\n",
    "    '''\n",
    "\n",
    "    return [dictionary.get(item, item) for item in list]"
   ]
  },
  {
   "cell_type": "code",
   "execution_count": 142,
   "metadata": {},
   "outputs": [],
   "source": [
    "##\n",
    "## order of appending 'pos' (1) must match the order of appending\n",
    "##     the 'sent_type' (2) sentence type.\n",
    "##\n",
    "\n",
    "## (1) pos: combine questions + answers\n",
    "questions_pos = questions.apply(tokenizer)\n",
    "questions_unique = [replace(list(x), penn_scale)  for x in set(tuple(x) for x in questions_pos)]\n",
    "\n",
    "answers_pos = answers.apply(tokenizer)\n",
    "answers_unique = [replace(list(x), penn_scale) for x in set(tuple(x) for x in answers_pos)]\n",
    "\n",
    "## append data\n",
    "pos = answers_unique + questions_unique\n",
    "\n",
    "## (2) sentence type\n",
    "sent_type = []\n",
    "for i in range(len(questions_unique)):\n",
    "    sent_type.append('0')\n",
    "\n",
    "for j in range(len(answers_unique)):\n",
    "    sent_type.append('1')"
   ]
  },
  {
   "cell_type": "code",
   "execution_count": 143,
   "metadata": {},
   "outputs": [
    {
     "name": "stdout",
     "output_type": "stream",
     "text": [
      "X_train: (1861,), y_train: (1861,)\n",
      "X_test: (466,), y_test: (466,)\n"
     ]
    }
   ],
   "source": [
    "## adjusted dataset\n",
    "df_adjusted = pd.DataFrame({\n",
    "    'pos': pos,\n",
    "    'type': sent_type\n",
    "})\n",
    "\n",
    "## train + test\n",
    "X_train, X_test, y_train, y_test = train_test_split(\n",
    "    df_adjusted['pos'],\n",
    "    df_adjusted['type'],\n",
    "    test_size=0.2\n",
    ")\n",
    "\n",
    "## print shape\n",
    "print('X_train: {X}, y_train: {y}'.format(\n",
    "    X=X_train.shape,\n",
    "    y=y_train.shape\n",
    "))\n",
    "\n",
    "print('X_test: {X}, y_test: {y}'.format(\n",
    "    X=X_test.shape,\n",
    "    y=y_test.shape\n",
    "))"
   ]
  },
  {
   "cell_type": "code",
   "execution_count": 144,
   "metadata": {},
   "outputs": [
    {
     "data": {
      "text/plain": [
       "483      [3, 12, 12, 30, 6, 7, 13, 33, 28, 6, 14, 17, 12]\n",
       "1404                      [7, 12, 14, 14, 12, 28, 14, 12]\n",
       "908                        [3, 14, 14, 14, 1, 14, 14, 14]\n",
       "172     [13, 6, 14, 14, 14, 7, 14, 14, 14, 14, 6, 14, ...\n",
       "432                                     [7, 12, 1, 7, 12]\n",
       "548                      [14, 14, 17, 12, 20, 28, 25, 27]\n",
       "404                                            [3, 7, 12]\n",
       "1647                          [34, 32, 3, 12, 14, 14, 12]\n",
       "1772                                      [14, 7, 13, 30]\n",
       "912     [6, 3, 12, 32, 30, 3, 7, 2, 11, 27, 25, 3, 8, 12]\n",
       "Name: pos, dtype: object"
      ]
     },
     "execution_count": 144,
     "metadata": {},
     "output_type": "execute_result"
    }
   ],
   "source": [
    "X_train.head(10)"
   ]
  },
  {
   "cell_type": "code",
   "execution_count": 145,
   "metadata": {},
   "outputs": [
    {
     "data": {
      "text/plain": [
       "483     0\n",
       "1404    1\n",
       "908     0\n",
       "172     0\n",
       "432     0\n",
       "548     0\n",
       "404     0\n",
       "1647    1\n",
       "1772    1\n",
       "912     0\n",
       "Name: type, dtype: object"
      ]
     },
     "execution_count": 145,
     "metadata": {},
     "output_type": "execute_result"
    }
   ],
   "source": [
    "y_train.head(10)"
   ]
  },
  {
   "cell_type": "code",
   "execution_count": 296,
   "metadata": {},
   "outputs": [],
   "source": [
    "## train: ensure nested lists same length\n",
    "length = len(sorted(X_train, key=len, reverse=True)[0])\n",
    "X_train_final=np.array([xi+[stop_gap]*(length-len(xi)) for xi in X_train])\n",
    "X_train_final=pd.DataFrame(X_train_final)\n",
    "\n",
    "## test: ensure nested lists same length\n",
    "length = len(sorted(X_test, key=len, reverse=True)[0])\n",
    "X_test_final=np.array([xi+[stop_gap]*(length-len(xi)) for xi in X_test])\n",
    "X_test_final=pd.DataFrame(X_test_final)"
   ]
  },
  {
   "cell_type": "code",
   "execution_count": 297,
   "metadata": {},
   "outputs": [],
   "source": [
    "## normalize datasets\n",
    "X_train_final, X_tests_final = normalize_data(X_train_final, X_test_final)"
   ]
  },
  {
   "cell_type": "code",
   "execution_count": 298,
   "metadata": {},
   "outputs": [
    {
     "name": "stdout",
     "output_type": "stream",
     "text": [
      "   0   1   2   3   4   5   6   7   8   9  ...  30  31  32  33  34  35  36  37  \\\n",
      "0   3  12  12  30   6   7  13  33  28   6 ...  40  40  40  40  40  40  40  40   \n",
      "1   7  12  14  14  12  28  14  12  40  40 ...  40  40  40  40  40  40  40  40   \n",
      "2   3  14  14  14   1  14  14  14  40  40 ...  40  40  40  40  40  40  40  40   \n",
      "3  13   6  14  14  14   7  14  14  14  14 ...  17   7  14   6   3  14  32  14   \n",
      "4   7  12   1   7  12  40  40  40  40  40 ...  40  40  40  40  40  40  40  40   \n",
      "5  14  14  17  12  20  28  25  27  40  40 ...  40  40  40  40  40  40  40  40   \n",
      "6   3   7  12  40  40  40  40  40  40  40 ...  40  40  40  40  40  40  40  40   \n",
      "7  34  32   3  12  14  14  12  40  40  40 ...  40  40  40  40  40  40  40  40   \n",
      "8  14   7  13  30  40  40  40  40  40  40 ...  40  40  40  40  40  40  40  40   \n",
      "9   6   3  12  32  30   3   7   2  11  27 ...  40  40  40  40  40  40  40  40   \n",
      "\n",
      "   38  39  \n",
      "0  40  40  \n",
      "1  40  40  \n",
      "2  40  40  \n",
      "3  17   3  \n",
      "4  40  40  \n",
      "5  40  40  \n",
      "6  40  40  \n",
      "7  40  40  \n",
      "8  40  40  \n",
      "9  40  40  \n",
      "\n",
      "[10 rows x 40 columns]\n",
      "    0   1   2   3   4   5   6   7   8   9    ...     30  filler-0  filler-1  \\\n",
      "0  36   7  13  27   6  12  13  40  40  40    ...     40        40        40   \n",
      "1  14  14   3   7  12  40  40  40  40  40    ...     40        40        40   \n",
      "2  34   7   7  13  28  30  29  13  40  40    ...     40        40        40   \n",
      "3  34  32   3   7  12  25  27   3  12  40    ...     40        40        40   \n",
      "4  36   7  32   3  12  17  12  40  40  40    ...     40        40        40   \n",
      "5   6  12  13   3  13  31  20  27   6   3    ...     40        40        40   \n",
      "6  32  14  12   3  12  40  40  40  40  40    ...     40        40        40   \n",
      "7  14  14  14  14  14  14   7   7  13   1    ...     40        40        40   \n",
      "8  14  14  28  14  14  40  40  40  40  40    ...     40        40        40   \n",
      "9  34  32   3   7  12   6  12  40  40  40    ...     40        40        40   \n",
      "\n",
      "   filler-2  filler-3  filler-4  filler-5  filler-6  filler-7  filler-8  \n",
      "0        40        40        40        40        40        40        40  \n",
      "1        40        40        40        40        40        40        40  \n",
      "2        40        40        40        40        40        40        40  \n",
      "3        40        40        40        40        40        40        40  \n",
      "4        40        40        40        40        40        40        40  \n",
      "5        40        40        40        40        40        40        40  \n",
      "6        40        40        40        40        40        40        40  \n",
      "7        40        40        40        40        40        40        40  \n",
      "8        40        40        40        40        40        40        40  \n",
      "9        40        40        40        40        40        40        40  \n",
      "\n",
      "[10 rows x 40 columns]\n"
     ]
    }
   ],
   "source": [
    "print(X_train_final.head(10))\n",
    "print(X_test_final.head(10))"
   ]
  },
  {
   "cell_type": "code",
   "execution_count": 299,
   "metadata": {},
   "outputs": [],
   "source": [
    "##\n",
    "## random forrest: selected due to high accuracy, and hasn't\n",
    "##     been implemented in the project.\n",
    "##\n",
    "clf=RandomForestClassifier(n_estimators=1000)\n",
    "\n",
    "tr0 = time()\n",
    "clf.fit(X_train_final, np.asarray(y_train))\n",
    "tr1 = time()\n",
    "y_pred=clf.predict(X_test_final)\n",
    "tr2 = time()"
   ]
  },
  {
   "cell_type": "code",
   "execution_count": 300,
   "metadata": {},
   "outputs": [
    {
     "data": {
      "text/plain": [
       "array([[220,  71],\n",
       "       [ 50, 125]], dtype=int64)"
      ]
     },
     "execution_count": 300,
     "metadata": {},
     "output_type": "execute_result"
    }
   ],
   "source": [
    "confusion_matrix(y_pred=y_pred, y_true=y_test)"
   ]
  },
  {
   "cell_type": "code",
   "execution_count": 301,
   "metadata": {},
   "outputs": [
    {
     "name": "stdout",
     "output_type": "stream",
     "text": [
      "Accuracy: 0.740343347639485\n"
     ]
    }
   ],
   "source": [
    "print('Accuracy: {accuracy}'.format(accuracy=accuracy_score(y_test, y_pred)))"
   ]
  },
  {
   "cell_type": "code",
   "execution_count": 302,
   "metadata": {},
   "outputs": [
    {
     "name": "stdout",
     "output_type": "stream",
     "text": [
      "random forrest\n",
      "train: 3.754288673400879,\n",
      "predict: 0.2472233772277832\n"
     ]
    }
   ],
   "source": [
    "print('random forrest\\ntrain: {rf_train},\\npredict: {rf_predict}'.format(\n",
    "    rf_train=tr1-tr0,\n",
    "    rf_predict=tr2-tr1\n",
    "))"
   ]
  },
  {
   "cell_type": "code",
   "execution_count": 303,
   "metadata": {},
   "outputs": [
    {
     "data": {
      "text/plain": [
       "['model/random_forrest.pkl']"
      ]
     },
     "execution_count": 303,
     "metadata": {},
     "output_type": "execute_result"
    }
   ],
   "source": [
    "## export model\n",
    "if not path.exists('model'):\n",
    "    makedirs('model')\n",
    "joblib.dump(clf, 'model/random_forrest.pkl', compress=9)"
   ]
  }
 ],
 "metadata": {
  "kernelspec": {
   "display_name": "Python 3",
   "language": "python",
   "name": "python3"
  },
  "language_info": {
   "codemirror_mode": {
    "name": "ipython",
    "version": 3
   },
   "file_extension": ".py",
   "mimetype": "text/x-python",
   "name": "python",
   "nbconvert_exporter": "python",
   "pygments_lexer": "ipython3",
   "version": "3.6.7"
  }
 },
 "nbformat": 4,
 "nbformat_minor": 2
}
