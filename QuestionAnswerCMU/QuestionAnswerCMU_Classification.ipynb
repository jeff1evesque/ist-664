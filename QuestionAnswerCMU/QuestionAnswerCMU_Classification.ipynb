{
 "cells": [
  {
   "cell_type": "code",
   "execution_count": 1,
   "metadata": {},
   "outputs": [],
   "source": [
    "import pandas as pd\n",
    "import numpy as np\n",
    "from time import time\n",
    "from os import path, makedirs\n",
    "from sklearn.model_selection import train_test_split\n",
    "from sklearn.ensemble import RandomForestClassifier\n",
    "from sklearn.metrics import accuracy_score, confusion_matrix\n",
    "import joblib\n",
    "from utility import normalize_data, tokenizer, replace, penn_scale"
   ]
  },
  {
   "cell_type": "code",
   "execution_count": 2,
   "metadata": {},
   "outputs": [],
   "source": [
    "## load data\n",
    "df1 = pd.read_csv('data/S08/question_answer_pairs.txt', sep='\\\\t', engine='python').dropna()\n",
    "df2 = pd.read_csv('data/S09/question_answer_pairs.txt', sep='\\\\t', engine='python').dropna()\n",
    "df3 = pd.read_csv('data/S10/question_answer_pairs.txt', sep='\\\\t', engine='python').dropna()\n",
    "frames = [df1, df2, df3]\n",
    "df = pd.concat(frames)\n",
    "\n",
    "questions = df['Question']\n",
    "answers = df['Answer']"
   ]
  },
  {
   "cell_type": "code",
   "execution_count": 3,
   "metadata": {},
   "outputs": [],
   "source": [
    "##\n",
    "## order of appending 'pos' (1) must match the order of appending\n",
    "##     the 'sent_type' (2) sentence type.\n",
    "##\n",
    "\n",
    "## (1) pos: combine questions + answers\n",
    "questions_pos = questions.apply(tokenizer)\n",
    "questions_unique = [replace(list(x), penn_scale())  for x in set(tuple(x) for x in questions_pos)]\n",
    "\n",
    "answers_pos = answers.apply(tokenizer)\n",
    "answers_unique = [replace(list(x), penn_scale()) for x in set(tuple(x) for x in answers_pos)]\n",
    "\n",
    "## append data\n",
    "pos = answers_unique + questions_unique\n",
    "\n",
    "## (2) sentence type\n",
    "sent_type = []\n",
    "for i in range(len(questions_unique)):\n",
    "    sent_type.append('0')\n",
    "\n",
    "for j in range(len(answers_unique)):\n",
    "    sent_type.append('1')"
   ]
  },
  {
   "cell_type": "code",
   "execution_count": 4,
   "metadata": {},
   "outputs": [
    {
     "name": "stdout",
     "output_type": "stream",
     "text": [
      "X_train: (1861,), y_train: (1861,)\n",
      "X_test: (466,), y_test: (466,)\n"
     ]
    }
   ],
   "source": [
    "## adjusted dataset\n",
    "df_adjusted = pd.DataFrame({\n",
    "    'pos': pos,\n",
    "    'type': sent_type\n",
    "})\n",
    "\n",
    "## train + test\n",
    "X_train, X_test, y_train, y_test = train_test_split(\n",
    "    df_adjusted['pos'],\n",
    "    df_adjusted['type'],\n",
    "    test_size=0.2\n",
    ")\n",
    "\n",
    "## print shape\n",
    "print('X_train: {X}, y_train: {y}'.format(\n",
    "    X=X_train.shape,\n",
    "    y=y_train.shape\n",
    "))\n",
    "\n",
    "print('X_test: {X}, y_test: {y}'.format(\n",
    "    X=X_test.shape,\n",
    "    y=y_test.shape\n",
    "))"
   ]
  },
  {
   "cell_type": "code",
   "execution_count": 5,
   "metadata": {},
   "outputs": [
    {
     "data": {
      "text/plain": [
       "1409                           [37, 29, 4, 8, 15, 15, 29]\n",
       "2284                    [35, 29, 22, 8, 7, 30, 14, 7, 14]\n",
       "245                   [5, 32, 8, 8, 14, 7, 15, 2, 15, 15]\n",
       "2245        [15, 15, 29, 7, 4, 8, 13, 7, 15, 7, 15, 7, 3]\n",
       "2227                          [35, 33, 4, 13, 26, 28, 14]\n",
       "824                                                  [10]\n",
       "1649                          [37, 29, 15, 13, 13, 7, 15]\n",
       "646                          [4, 10, 13, 7, 4, 13, 7, 13]\n",
       "559                        [4, 15, 13, 33, 31, 7, 15, 15]\n",
       "517     [4, 32, 14, 30, 4, 14, 2, 14, 8, 14, 32, 21, 3...\n",
       "Name: pos, dtype: object"
      ]
     },
     "execution_count": 5,
     "metadata": {},
     "output_type": "execute_result"
    }
   ],
   "source": [
    "X_train.head(10)"
   ]
  },
  {
   "cell_type": "code",
   "execution_count": 6,
   "metadata": {},
   "outputs": [
    {
     "data": {
      "text/plain": [
       "1409    1\n",
       "2284    1\n",
       "245     0\n",
       "2245    1\n",
       "2227    1\n",
       "824     0\n",
       "1649    1\n",
       "646     0\n",
       "559     0\n",
       "517     0\n",
       "Name: type, dtype: object"
      ]
     },
     "execution_count": 6,
     "metadata": {},
     "output_type": "execute_result"
    }
   ],
   "source": [
    "y_train.head(10)"
   ]
  },
  {
   "cell_type": "code",
   "execution_count": 7,
   "metadata": {},
   "outputs": [],
   "source": [
    "## normalize datasets\n",
    "X_train_final = normalize_data(X_train, stop_gap=40, train=True)\n",
    "X_test_final = normalize_data(X_test, stop_gap=40, train=True)"
   ]
  },
  {
   "cell_type": "code",
   "execution_count": 8,
   "metadata": {},
   "outputs": [
    {
     "name": "stdout",
     "output_type": "stream",
     "text": [
      "   0   1   2   3   4   5   6   7   8   9  ...  30  31  32  33  34  35  36  37  \\\n",
      "0  37  29   4   8  15  15  29  40  40  40 ...  40  40  40  40  40  40  40  40   \n",
      "1  35  29  22   8   7  30  14   7  14  40 ...  40  40  40  40  40  40  40  40   \n",
      "2   5  32   8   8  14   7  15   2  15  15 ...  40  40  40  40  40  40  40  40   \n",
      "3  15  15  29   7   4   8  13   7  15   7 ...  40  40  40  40  40  40  40  40   \n",
      "4  35  33   4  13  26  28  14  40  40  40 ...  40  40  40  40  40  40  40  40   \n",
      "5  10  40  40  40  40  40  40  40  40  40 ...  40  40  40  40  40  40  40  40   \n",
      "6  37  29  15  13  13   7  15  40  40  40 ...  40  40  40  40  40  40  40  40   \n",
      "7   4  10  13   7   4  13   7  13  40  40 ...  40  40  40  40  40  40  40  40   \n",
      "8   4  15  13  33  31   7  15  15  40  40 ...  40  40  40  40  40  40  40  40   \n",
      "9   4  32  14  30   4  14   2  14   8  14 ...  40  40  40  40  40  40  40  40   \n",
      "\n",
      "   38  39  \n",
      "0  40  40  \n",
      "1  40  40  \n",
      "2  40  40  \n",
      "3  40  40  \n",
      "4  40  40  \n",
      "5  40  40  \n",
      "6  40  40  \n",
      "7  40  40  \n",
      "8  40  40  \n",
      "9  40  40  \n",
      "\n",
      "[10 rows x 40 columns]\n",
      "   0   1   2   3   4   5   6   7   8   9  ...  30  31  32  33  34  35  36  37  \\\n",
      "0  15  15  21  31  30   4  16  30  13  40 ...  40  40  40  40  40  40  40  40   \n",
      "1   7   4  13   7   4  15   7  15   2   4 ...  40  40  40  40  40  40  40  40   \n",
      "2  27  19  32  28  26  28  13  14  40  40 ...  40  40  40  40  40  40  40  40   \n",
      "3   4  15  15  13  33   3   2  21   3  30 ...  40  40  40  40  40  40  40  40   \n",
      "4  33   8  28  14   7   4  15  13  40  40 ...  40  40  40  40  40  40  40  40   \n",
      "5  37  29   4   8   8  14  32   7   4  13 ...  40  40  40  40  40  40  40  40   \n",
      "6  28  13  28  21   9   7   8  13  40  40 ...  40  40  40  40  40  40  40  40   \n",
      "7  33   4   8  13  32   7  15  15  40  40 ...  40  40  40  40  40  40  40  40   \n",
      "8  37  21   7   4  13   7  20   8  13  29 ...  40  40  40  40  40  40  40  40   \n",
      "9   4  14   2   4  13  40  40  40  40  40 ...  40  40  40  40  40  40  40  40   \n",
      "\n",
      "   38  39  \n",
      "0  40  40  \n",
      "1  40  40  \n",
      "2  40  40  \n",
      "3  40  40  \n",
      "4  40  40  \n",
      "5  40  40  \n",
      "6  40  40  \n",
      "7  40  40  \n",
      "8  40  40  \n",
      "9  40  40  \n",
      "\n",
      "[10 rows x 40 columns]\n"
     ]
    }
   ],
   "source": [
    "print(X_train_final.head(10))\n",
    "print(X_test_final.head(10))"
   ]
  },
  {
   "cell_type": "code",
   "execution_count": 62,
   "metadata": {},
   "outputs": [],
   "source": [
    "##\n",
    "## random forrest: selected due to high accuracy, and hasn't\n",
    "##     been implemented in the project.\n",
    "##\n",
    "clf=RandomForestClassifier(n_estimators=1500)\n",
    "\n",
    "tr0 = time()\n",
    "clf.fit(X_train_final, np.asarray(y_train))\n",
    "tr1 = time()\n",
    "y_pred=clf.predict(X_test_final)\n",
    "tr2 = time()"
   ]
  },
  {
   "cell_type": "code",
   "execution_count": 63,
   "metadata": {},
   "outputs": [
    {
     "data": {
      "text/plain": [
       "array([[221,  64],\n",
       "       [ 56, 125]], dtype=int64)"
      ]
     },
     "execution_count": 63,
     "metadata": {},
     "output_type": "execute_result"
    }
   ],
   "source": [
    "confusion_matrix(y_pred=y_pred, y_true=y_test)"
   ]
  },
  {
   "cell_type": "code",
   "execution_count": 64,
   "metadata": {},
   "outputs": [
    {
     "name": "stdout",
     "output_type": "stream",
     "text": [
      "Accuracy: 0.7424892703862661\n"
     ]
    }
   ],
   "source": [
    "print('Accuracy: {accuracy}'.format(accuracy=accuracy_score(y_test, y_pred)))"
   ]
  },
  {
   "cell_type": "code",
   "execution_count": 65,
   "metadata": {},
   "outputs": [
    {
     "name": "stdout",
     "output_type": "stream",
     "text": [
      "random forrest\n",
      "train: 5.493486642837524,\n",
      "predict: 0.298356294631958\n"
     ]
    }
   ],
   "source": [
    "print('random forrest\\ntrain: {rf_train},\\npredict: {rf_predict}'.format(\n",
    "    rf_train=tr1-tr0,\n",
    "    rf_predict=tr2-tr1\n",
    "))"
   ]
  },
  {
   "cell_type": "code",
   "execution_count": 66,
   "metadata": {},
   "outputs": [
    {
     "data": {
      "text/plain": [
       "['model/random_forest.pkl']"
      ]
     },
     "execution_count": 66,
     "metadata": {},
     "output_type": "execute_result"
    }
   ],
   "source": [
    "## export model\n",
    "if not path.exists('model'):\n",
    "    makedirs('model')\n",
    "joblib.dump(clf, 'model/random_forest.pkl', compress=True)"
   ]
  }
 ],
 "metadata": {
  "kernelspec": {
   "display_name": "Python 3",
   "language": "python",
   "name": "python3"
  },
  "language_info": {
   "codemirror_mode": {
    "name": "ipython",
    "version": 3
   },
   "file_extension": ".py",
   "mimetype": "text/x-python",
   "name": "python",
   "nbconvert_exporter": "python",
   "pygments_lexer": "ipython3",
   "version": "3.6.7"
  }
 },
 "nbformat": 4,
 "nbformat_minor": 2
}
