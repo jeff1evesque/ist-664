{
 "cells": [
  {
   "cell_type": "code",
   "execution_count": 69,
   "metadata": {},
   "outputs": [],
   "source": [
    "import nltk\n",
    "import pandas as pd\n",
    "import numpy as np\n",
    "from sklearn.model_selection import cross_val_predict, cross_val_score\n",
    "from sklearn.metrics import classification_report, confusion_matrix\n",
    "from sklearn.pipeline import Pipeline\n",
    "import json\n",
    "from bs4 import BeautifulSoup\n",
    "from string import punctuation\n",
    "import csv\n",
    "import random"
   ]
  },
  {
   "cell_type": "markdown",
   "metadata": {},
   "source": [
    "# Data Import and basic cleaning\n",
    "We will start by importing the data from a file consisting of many JSON objects, one per line. There was some unexpected encoding issues when using the Pandas read_json function, so we will do it the old fashioned way and read the raw text into memory, then enumerate through the loop and only keep the objects that can be successfully serialized into a dictionary object. Once that is complete we will create a Pandas DataFrame of the result and save it to a pickle file for easy reading at a later date."
   ]
  },
  {
   "cell_type": "code",
   "execution_count": 2,
   "metadata": {},
   "outputs": [],
   "source": [
    "with open('top_10_channels.json','r') as file:\n",
    "    raw_data = file.read().split(\"\\n\")"
   ]
  },
  {
   "cell_type": "code",
   "execution_count": 3,
   "metadata": {},
   "outputs": [
    {
     "name": "stdout",
     "output_type": "stream",
     "text": [
      "521067\n",
      "632258\n",
      "731392\n",
      "893765\n",
      "1024032\n",
      "1055899\n",
      "1158113\n",
      "1215489\n",
      "1286623\n"
     ]
    }
   ],
   "source": [
    "full_json = []\n",
    "for i,x in enumerate(raw_data):\n",
    "    try:\n",
    "        full_json.append(json.loads(x))\n",
    "    except :\n",
    "        print(i)\n",
    "        "
   ]
  },
  {
   "cell_type": "code",
   "execution_count": 4,
   "metadata": {},
   "outputs": [
    {
     "name": "stderr",
     "output_type": "stream",
     "text": [
      "C:\\Anaconda3\\lib\\site-packages\\ipykernel_launcher.py:1: DeprecationWarning: invalid escape sequence '\\/'\n",
      "  \"\"\"Entry point for launching an IPython kernel.\n"
     ]
    },
    {
     "data": {
      "text/plain": [
       "'{\"channel\":\"ru\",\"Id\":\"876325\",\"question\":\"<p>Мне нужно получить все картинки из папки (storage\\\\/app\\\\/images) в контроллере, выбрать из них только нужные, создав из них массив. Передать этот массив на страницу и вывести в цикле с помощью Blade в src.\\nСкажите пожалуйста, как это можно сделать?<\\\\/p>\\n\",\"answer\":\"<p>Прежде всего нужно включить доступ к storage, подробнее <a href=\"https:\\\\/\\\\/stackoverflow.com\\\\/questions\\\\/30191330\\\\/laravel-5-how-to-access-image-uploaded-in-storage-within-view\">здесь<\\\\/a>.\\nДальше нужно перебрать все файлы и добавить каждый в массив.<\\\\/p>\\n\\n<pre><code>$imagesPath = storage_path(\\'app\\\\/images\\\\/\\'); \\\\/\\\\/ путь к папке с картинками\\n$files = []; \\\\/\\\\/ массив файлов\\n\\nforeach (glob($imagesPath . \"*.{jpg,png,gif}\", GLOB_BRACE) as $filename) { \\\\/\\\\/ ищет все картинки через glob\\n    $files[] = $filename;\\n}  \\n\\nreturn view(\\'welcome\\', compact(\\'files\\'));\\n<\\\\/code><\\\\/pre>\\n\\n<p>Теперь в blade можно вывести вот так:<\\\\/p>\\n\\n<pre><code>@foreach ($files as $file)\\n    &lt;img src=\"\\\\/storage\\\\/{{ $file }}\"&gt;\\n@endforeach\\n<\\\\/code><\\\\/pre>\\n\\n<p><a href=\"http:\\\\/\\\\/php.net\\\\/manual\\\\/ru\\\\/function.glob.php\" rel=\"nofollow noreferrer\">Подробнее о glob<\\\\/a><\\\\/p>\\n\\n<p>GLOB_BRACE - Раскрывает {a,b,c} для совпадения с \\'a\\', \\'b\\' или \\'c\\'.<\\\\/p>\\n\\n<p>Если нужно проверить файлы регулярным выражением, взять точно те которые Вам нужно, то можно после foreach добавить:<\\\\/p>\\n\\n<pre><code>$filteredArr = preg_grep(\"\\\\/str\\\\/i\", $array); \\\\/\\\\/ возвращает у которых имя содержит str\\n<\\\\/code><\\\\/pre>\\n\\n<p>Надеюсь я Вам помог!<\\\\/p>\\n\"}{\"channel\":\"tex\",\"Id\":\"1\",\"question\":\"<p>I\\'m using LyX all the time and over the last 2 years I\\'ve accumulated some very handy macros for my lecture notes. As it is today, every time I start a new document, I copy and paste the macros from one of my other documents. Is it possible, somehow, to automatically load macros for all files?<\\\\/p>\\n\\n<p>(I asked this on SO a while back and got no answers. I hope in this new home I\\'ll get a response).<\\\\/p>\\n\",\"answer\":\"<p>I am not sure if you mean LyX macros or not. But if they are standard LaTeX macros, you can make your own style file, say \"rachum.sty\". Put all of your macros in there, and then have it included in the preamble by default.<\\\\/p>\\n\\n<p>This is useful for (La)TeX users in general. I have a lot of common things in my own file, such as <code>\\\\newcommand{\\\\Integers}{\\\\mathbb{Z}}<\\\\/code> and such.<\\\\/p>\\n\"}'"
      ]
     },
     "execution_count": 4,
     "metadata": {},
     "output_type": "execute_result"
    }
   ],
   "source": [
    "raw_data[632258].encode().decode(encoding='unicode-escape')"
   ]
  },
  {
   "cell_type": "markdown",
   "metadata": {},
   "source": [
    "This example was interesting, the Python JSON serializer could not handle encoding Russian text into a JSON object, and thus it fails."
   ]
  },
  {
   "cell_type": "code",
   "execution_count": 5,
   "metadata": {},
   "outputs": [],
   "source": [
    "full_df = pd.DataFrame(full_json)"
   ]
  },
  {
   "cell_type": "code",
   "execution_count": 6,
   "metadata": {},
   "outputs": [
    {
     "name": "stdout",
     "output_type": "stream",
     "text": [
      "<class 'pandas.core.frame.DataFrame'>\n",
      "RangeIndex: 1339625 entries, 0 to 1339624\n",
      "Data columns (total 4 columns):\n",
      "Id          1339625 non-null object\n",
      "answer      1339625 non-null object\n",
      "channel     1339625 non-null object\n",
      "question    1339625 non-null object\n",
      "dtypes: object(4)\n",
      "memory usage: 40.9+ MB\n"
     ]
    }
   ],
   "source": [
    "full_df.info()"
   ]
  },
  {
   "cell_type": "markdown",
   "metadata": {},
   "source": [
    "## Sampling the dataset\n",
    "Due to the nature of NLTK classifiers looking for a list of dictionaries for a featureset, we must sample this data. The original 1.6 million questions (from 20 channels) quickly exhausted 128 GB of RAM. The same behavior occurred when we reduced the number of records to 1.3 million (10 channels).<br>\n",
    "Unique words in feature set was also reduced, from the original 5k to a modest 2k and there was still not enough memory. This is due to the ineffecient data structure of a list of dictionaries because each item in the list needed to store strings for 2k or 5k words, plus a boolean value. The strings as keys leads to large memory consumption alone, at 5k features this would amount to almost 8 billion keys in the list. Using the minimum size of a string in Python (40 bytes) that is almost 320 GB of RAM needed to store the keys alone.<br>\n",
    "For this reason, we will check the original distribution of channels, then sample the data to 20% of the original size, and check the distribution once again to ensure we maintained a representive sample of the channels."
   ]
  },
  {
   "cell_type": "code",
   "execution_count": 7,
   "metadata": {},
   "outputs": [
    {
     "data": {
      "text/plain": [
       "math           0.388965\n",
       "superuser      0.121207\n",
       "serverfault    0.097241\n",
       "ru             0.083001\n",
       "askubuntu      0.076300\n",
       "tex            0.074001\n",
       "unix           0.053099\n",
       "pt             0.042829\n",
       "physics        0.039571\n",
       "codereview     0.023787\n",
       "Name: channel, dtype: float64"
      ]
     },
     "execution_count": 7,
     "metadata": {},
     "output_type": "execute_result"
    }
   ],
   "source": [
    "full_df['channel'].value_counts()/full_df['channel'].count()"
   ]
  },
  {
   "cell_type": "code",
   "execution_count": 21,
   "metadata": {},
   "outputs": [],
   "source": [
    "sampled_df = full_df.sample(frac=.2,replace=False,random_state=88)\n",
    "sampled_df.reset_index(inplace=True)"
   ]
  },
  {
   "cell_type": "code",
   "execution_count": 22,
   "metadata": {},
   "outputs": [
    {
     "data": {
      "text/plain": [
       "math           0.388071\n",
       "superuser      0.120347\n",
       "serverfault    0.096486\n",
       "ru             0.084180\n",
       "askubuntu      0.076611\n",
       "tex            0.074775\n",
       "unix           0.053422\n",
       "pt             0.042691\n",
       "physics        0.039448\n",
       "codereview     0.023969\n",
       "Name: channel, dtype: float64"
      ]
     },
     "execution_count": 22,
     "metadata": {},
     "output_type": "execute_result"
    }
   ],
   "source": [
    "sampled_df['channel'].value_counts()/sampled_df['channel'].count()"
   ]
  },
  {
   "cell_type": "code",
   "execution_count": 10,
   "metadata": {},
   "outputs": [],
   "source": [
    "sampled_df.drop(columns=['answer'],inplace=True)"
   ]
  },
  {
   "cell_type": "markdown",
   "metadata": {},
   "source": [
    "The sampling was able to keep the original distribution with almost perfect accuracy."
   ]
  },
  {
   "cell_type": "code",
   "execution_count": 23,
   "metadata": {},
   "outputs": [],
   "source": [
    "sampled_df.to_pickle('top_10_channels_sampled.pickle')"
   ]
  },
  {
   "cell_type": "markdown",
   "metadata": {},
   "source": [
    "# Tokenization and vectorization"
   ]
  },
  {
   "cell_type": "markdown",
   "metadata": {},
   "source": [
    "## Use beautiful soup to parse the html out of the text"
   ]
  },
  {
   "cell_type": "code",
   "execution_count": 12,
   "metadata": {},
   "outputs": [],
   "source": [
    "def parse_html(text):\n",
    "    parsed_text = BeautifulSoup(text).get_text()\n",
    "    return parsed_text"
   ]
  },
  {
   "cell_type": "markdown",
   "metadata": {},
   "source": [
    "Example of unparsed text"
   ]
  },
  {
   "cell_type": "code",
   "execution_count": 24,
   "metadata": {},
   "outputs": [
    {
     "data": {
      "text/plain": [
       "'<p>Let $D$ be an open disc centred at the origin in $\\\\mathbb{R}^2$. Give $D$ a Riemannian metric of the the form $(dx^2+dy^2)/f(r)^2$, where $r=\\\\sqrt{x^2+y^2}$ and $f(r)&gt;0$. Show that the curvature of this metric is $K = ff\\'\\' - (f\\')^2 + ff\\'/r$. </p>\\n\\n<p>First of all, I am confused as to what the question means by \"curvature of the metric\". I have previously only studies how to calculate the Gauss curvature of embedded surfaces, and am not sure how to proceed in this case. Many thanks for you help.</p>\\n'"
      ]
     },
     "execution_count": 24,
     "metadata": {},
     "output_type": "execute_result"
    }
   ],
   "source": [
    "sampled_df.iloc[2]['question']"
   ]
  },
  {
   "cell_type": "markdown",
   "metadata": {},
   "source": [
    "Parse and view to show html removed"
   ]
  },
  {
   "cell_type": "code",
   "execution_count": 25,
   "metadata": {},
   "outputs": [
    {
     "data": {
      "text/plain": [
       "'Let $D$ be an open disc centred at the origin in $\\\\mathbb{R}^2$. Give $D$ a Riemannian metric of the the form $(dx^2+dy^2)/f(r)^2$, where $r=\\\\sqrt{x^2+y^2}$ and $f(r)>0$. Show that the curvature of this metric is $K = ff\\'\\' - (f\\')^2 + ff\\'/r$. \\nFirst of all, I am confused as to what the question means by \"curvature of the metric\". I have previously only studies how to calculate the Gauss curvature of embedded surfaces, and am not sure how to proceed in this case. Many thanks for you help.\\n'"
      ]
     },
     "execution_count": 25,
     "metadata": {},
     "output_type": "execute_result"
    }
   ],
   "source": [
    "parse_html(sampled_df.iloc[2]['question'])"
   ]
  },
  {
   "cell_type": "markdown",
   "metadata": {},
   "source": [
    "Call this function on all text in the questions column of the dataframe"
   ]
  },
  {
   "cell_type": "code",
   "execution_count": 26,
   "metadata": {},
   "outputs": [],
   "source": [
    "sampled_df['question'] = sampled_df['question'].apply(parse_html)"
   ]
  },
  {
   "cell_type": "markdown",
   "metadata": {},
   "source": [
    "The results of the parser look to have done a good job. Let's save the results again in the pickle because the parsing took a really long time."
   ]
  },
  {
   "cell_type": "code",
   "execution_count": 27,
   "metadata": {},
   "outputs": [],
   "source": [
    "sampled_df.to_pickle('top_10_channels_sampled.pickle')"
   ]
  },
  {
   "cell_type": "code",
   "execution_count": 28,
   "metadata": {},
   "outputs": [],
   "source": [
    "def tokenize_questions(question):\n",
    "    sent = nltk.word_tokenize(question)\n",
    "    sent = [word.lower() for word in sent]\n",
    "    sent = [word for word in sent if word not in punctuation]\n",
    "    #sent = [word for word in sent if len(word) > 3]\n",
    "    return(sent)"
   ]
  },
  {
   "cell_type": "code",
   "execution_count": 29,
   "metadata": {},
   "outputs": [
    {
     "data": {
      "text/plain": [
       "1     [como, remover, esses, arquivos, do, meu, ramo...\n",
       "2     [let, d, be, an, open, disc, centred, at, the,...\n",
       "3     [i, have, the, netgear, router, which, has, bu...\n",
       "4     [i, hope, i, 've, posted, this, in, the, prope...\n",
       "5     [a, cartier, divisor, on, a, scheme, x, is, ef...\n",
       "6     [my, employer, just, bought, a, building, with...\n",
       "7     [i, am, currently, running, windows, server, 2...\n",
       "8     [i, would, like, to, have, separate, browser, ...\n",
       "9     [всем, привет, есть, список, ul, li, ..., /li,...\n",
       "10    [how, can, i, find, only, the, catalogs, and, ...\n",
       "Name: question, dtype: object"
      ]
     },
     "execution_count": 29,
     "metadata": {},
     "output_type": "execute_result"
    }
   ],
   "source": [
    "sampled_df.loc[1:10]['question'].apply(tokenize_questions)"
   ]
  },
  {
   "cell_type": "markdown",
   "metadata": {},
   "source": [
    "In order to construct our word distribution we must collect all tokenized words in a list"
   ]
  },
  {
   "cell_type": "code",
   "execution_count": 30,
   "metadata": {},
   "outputs": [],
   "source": [
    "all_words = [word for sent in sampled_df['question'].apply(tokenize_questions) for word in sent]"
   ]
  },
  {
   "cell_type": "code",
   "execution_count": 31,
   "metadata": {},
   "outputs": [
    {
     "data": {
      "text/plain": [
       "37186506"
      ]
     },
     "execution_count": 31,
     "metadata": {},
     "output_type": "execute_result"
    }
   ],
   "source": [
    "len(all_words)"
   ]
  },
  {
   "cell_type": "markdown",
   "metadata": {},
   "source": [
    "This shows that there are 37 million words in the sampled corpus. To make use of the words we construct a word frequency distribution to pull out the most common words."
   ]
  },
  {
   "cell_type": "code",
   "execution_count": 32,
   "metadata": {},
   "outputs": [],
   "source": [
    "all_words_freq = nltk.FreqDist(all_words)"
   ]
  },
  {
   "cell_type": "code",
   "execution_count": 33,
   "metadata": {},
   "outputs": [
    {
     "data": {
      "text/plain": [
       "1390900"
      ]
     },
     "execution_count": 33,
     "metadata": {},
     "output_type": "execute_result"
    }
   ],
   "source": [
    "len(all_words_freq)"
   ]
  },
  {
   "cell_type": "markdown",
   "metadata": {},
   "source": [
    "This results in an astonishing 1.4 million unique features. This data should really be further processed to reduce the number of features to just those that provide valid signal to the classifier, however, the instructions for the assignment state to use as little filtering as possible. We will have a look at the 50 most common words and see how leaving stop words will affect our outcome."
   ]
  },
  {
   "cell_type": "code",
   "execution_count": 35,
   "metadata": {},
   "outputs": [
    {
     "data": {
      "text/plain": [
       "[('the', 1226697),\n",
       " ('i', 943617),\n",
       " ('to', 732508),\n",
       " ('a', 690848),\n",
       " ('is', 576152),\n",
       " (\"''\", 555984),\n",
       " ('and', 473818),\n",
       " ('of', 460125),\n",
       " ('that', 352445),\n",
       " ('in', 346246),\n",
       " ('it', 304846),\n",
       " ('this', 281528),\n",
       " ('``', 277574),\n",
       " ('for', 269585),\n",
       " ('1', 228349),\n",
       " ('--', 209936),\n",
       " ('x', 209522),\n",
       " ('if', 199494),\n",
       " ('0', 197820),\n",
       " ('on', 182234),\n",
       " ('have', 181975),\n",
       " ('be', 179861),\n",
       " ('with', 174947),\n",
       " ('but', 172062),\n",
       " ('not', 171870),\n",
       " ('my', 157804),\n",
       " ('can', 151712),\n",
       " ('do', 137686),\n",
       " ('as', 137319),\n",
       " ('2', 133704),\n",
       " ('are', 119145),\n",
       " (\"n't\", 113234),\n",
       " ('from', 112543),\n",
       " ('how', 112532),\n",
       " ('so', 111666),\n",
       " ('n', 106291),\n",
       " ('or', 104916),\n",
       " ('there', 103832),\n",
       " ('an', 103427),\n",
       " ('f', 101630),\n",
       " ('what', 91221),\n",
       " ('we', 89126),\n",
       " ('at', 87879),\n",
       " ('by', 86749),\n",
       " ('\\\\frac', 85985),\n",
       " (\"'s\", 85835),\n",
       " ('then', 82335),\n",
       " ('...', 81238),\n",
       " ('any', 81032),\n",
       " (\"'m\", 79280)]"
      ]
     },
     "execution_count": 35,
     "metadata": {},
     "output_type": "execute_result"
    }
   ],
   "source": [
    "all_words_freq.most_common(50)"
   ]
  },
  {
   "cell_type": "code",
   "execution_count": 36,
   "metadata": {},
   "outputs": [
    {
     "data": {
      "text/plain": [
       "[('35', 1901),\n",
       " ('modify', 1900),\n",
       " ('0.0.0.0', 1900),\n",
       " ('dec', 1899),\n",
       " ('28', 1895),\n",
       " ('função', 1895),\n",
       " ('removing', 1894),\n",
       " ('\\\\mathscr', 1891),\n",
       " ('logged', 1890),\n",
       " ('convergent', 1888),\n",
       " ('prefer', 1887),\n",
       " ('units', 1885),\n",
       " ('offset', 1884),\n",
       " ('satisfy', 1884),\n",
       " ('resolution', 1882),\n",
       " ('x\\\\to', 1881),\n",
       " ('arr', 1880),\n",
       " ('measurable', 1880),\n",
       " ('apparently', 1878),\n",
       " ('endl', 1877),\n",
       " ('convex', 1877),\n",
       " ('fast', 1875),\n",
       " ('bug', 1874),\n",
       " ('eigenvalues', 1874),\n",
       " ('ошибка', 1866),\n",
       " ('rx', 1863),\n",
       " ('isomorphism', 1862),\n",
       " ('массив', 1861),\n",
       " ('toc', 1861),\n",
       " ('x-1', 1860),\n",
       " ('multiplication', 1860),\n",
       " ('stored', 1858),\n",
       " ('logical', 1858),\n",
       " ('cells', 1858),\n",
       " ('upon', 1853),\n",
       " ('increase', 1853),\n",
       " ('typename', 1852),\n",
       " ('incorrect', 1851),\n",
       " ('welcome', 1849),\n",
       " ('aware', 1849),\n",
       " ('assim', 1846),\n",
       " ('=\\\\sum_', 1843),\n",
       " ('indeed', 1842),\n",
       " ('neither', 1842),\n",
       " ('pick', 1840),\n",
       " ('quantum', 1839),\n",
       " ('jquery', 1837),\n",
       " ('fit', 1835),\n",
       " ('почему', 1835),\n",
       " ('past', 1834),\n",
       " ('faster', 1832),\n",
       " ('man', 1831),\n",
       " ('2010', 1830),\n",
       " ('iff', 1829),\n",
       " ('du', 1828),\n",
       " ('beginning', 1828),\n",
       " ('где', 1827),\n",
       " ('considered', 1825),\n",
       " ('paragraph', 1825),\n",
       " ('regarding', 1823),\n",
       " ('lts', 1823),\n",
       " ('scale', 1821),\n",
       " ('1.0', 1820),\n",
       " ('gave', 1818),\n",
       " ('oct', 1816),\n",
       " ('уже', 1815),\n",
       " ('panel', 1814),\n",
       " ('m_', 1813),\n",
       " ('took', 1810),\n",
       " ('2015', 1809),\n",
       " ('linha', 1806),\n",
       " ('inet', 1804),\n",
       " ('described', 1802),\n",
       " ('throws', 1801),\n",
       " ('i.e.', 1798),\n",
       " ('seeing', 1795),\n",
       " ('enumerate', 1794),\n",
       " ('beamer', 1792),\n",
       " ('irreducible', 1792),\n",
       " ('нет', 1791),\n",
       " ('vim', 1789),\n",
       " ('packet', 1789),\n",
       " ('components', 1788),\n",
       " ('imply', 1786),\n",
       " ('edges', 1786),\n",
       " (':string', 1786),\n",
       " ('learning', 1785),\n",
       " ('sender', 1785),\n",
       " ('01', 1784),\n",
       " ('itemize', 1781),\n",
       " ('за', 1780),\n",
       " ('значение', 1780),\n",
       " ('404', 1779),\n",
       " ('possibly', 1776),\n",
       " ('css', 1776),\n",
       " ('\\\\otimes', 1776),\n",
       " ('horizontal', 1776),\n",
       " ('\\\\|', 1772),\n",
       " ('signal', 1772),\n",
       " ('biblatex', 1771)]"
      ]
     },
     "execution_count": 36,
     "metadata": {},
     "output_type": "execute_result"
    }
   ],
   "source": [
    "all_words_freq.most_common(2000)[-100:]"
   ]
  },
  {
   "cell_type": "markdown",
   "metadata": {},
   "source": [
    "The last 100 words of the top 2000 features show a steep drop off in word frequency, with only 1.7k appearances. This seems like a reasonable number of features to classify."
   ]
  },
  {
   "cell_type": "markdown",
   "metadata": {},
   "source": [
    "To clean up some memory usage we will drop the all_words list now and save the top 2000 features of the FreqDist to a file for checkpointing."
   ]
  },
  {
   "cell_type": "code",
   "execution_count": 37,
   "metadata": {},
   "outputs": [],
   "source": [
    "del(all_words)\n",
    "with open('freq_dist.csv','w',newline='',encoding='utf-8') as fd_out:\n",
    "    writer = csv.writer(fd_out)\n",
    "    for key,count in all_words_freq.most_common(2000):\n",
    "        writer.writerow([key,count])"
   ]
  },
  {
   "cell_type": "code",
   "execution_count": 38,
   "metadata": {},
   "outputs": [],
   "source": [
    "word_features = [word for (word,count) in all_words_freq.most_common(2000)]"
   ]
  },
  {
   "cell_type": "markdown",
   "metadata": {},
   "source": [
    "### Define the function to create a featureset"
   ]
  },
  {
   "cell_type": "code",
   "execution_count": 39,
   "metadata": {},
   "outputs": [],
   "source": [
    "def document_features(document, word_features):\n",
    "    document_words = set(document)\n",
    "    features = {}\n",
    "    for word in word_features:\n",
    "        features['V_{}'.format(word)] = (word in document_words)\n",
    "    return features"
   ]
  },
  {
   "cell_type": "markdown",
   "metadata": {},
   "source": [
    "Test the new function out on the first document"
   ]
  },
  {
   "cell_type": "code",
   "execution_count": 40,
   "metadata": {},
   "outputs": [
    {
     "name": "stdout",
     "output_type": "stream",
     "text": [
      "V_the False\n",
      "V_i True\n",
      "V_to False\n",
      "V_a True\n",
      "V_is False\n",
      "V_'' False\n",
      "V_and False\n",
      "V_of False\n",
      "V_that False\n",
      "V_in False\n"
     ]
    }
   ],
   "source": [
    "test_features = document_features(sampled_df.iloc[0]['question'],word_features)\n",
    "for feature in list(test_features.keys())[:10]:\n",
    "    print(feature,test_features[feature])"
   ]
  },
  {
   "cell_type": "markdown",
   "metadata": {},
   "source": [
    "### Construct the Feature Set"
   ]
  },
  {
   "cell_type": "markdown",
   "metadata": {},
   "source": [
    "The first step in creating a feature set is to tokenize the words in the Pandas Series into a list and combine them with the channel label. To do this we will create a function that returns the tokenized document and the channel as a list object"
   ]
  },
  {
   "cell_type": "code",
   "execution_count": 41,
   "metadata": {},
   "outputs": [],
   "source": [
    "def munge_df(row):\n",
    "    return([tokenize_questions(row['question']),row['channel']])"
   ]
  },
  {
   "cell_type": "code",
   "execution_count": 47,
   "metadata": {},
   "outputs": [],
   "source": [
    "doc_feat_list = sampled_df.apply(func= munge_df, axis=1)"
   ]
  },
  {
   "cell_type": "markdown",
   "metadata": {},
   "source": [
    "Check the first row of doc_feat_list to ensure it worked"
   ]
  },
  {
   "cell_type": "code",
   "execution_count": 48,
   "metadata": {},
   "outputs": [
    {
     "data": {
      "text/plain": [
       "[['seeking',\n",
       "  'to',\n",
       "  'improve',\n",
       "  'upon',\n",
       "  'my',\n",
       "  'high',\n",
       "  'score',\n",
       "  \"'module\",\n",
       "  'code',\n",
       "  'it',\n",
       "  'saves',\n",
       "  'users',\n",
       "  'high',\n",
       "  'score',\n",
       "  'in',\n",
       "  'a',\n",
       "  'pickle',\n",
       "  'database',\n",
       "  'and',\n",
       "  'if',\n",
       "  'needed',\n",
       "  'prints',\n",
       "  'out',\n",
       "  'the',\n",
       "  'current',\n",
       "  'scores',\n",
       "  'in',\n",
       "  'the',\n",
       "  'database',\n",
       "  'import',\n",
       "  'pickle',\n",
       "  'import',\n",
       "  'os',\n",
       "  'global',\n",
       "  'high_scores',\n",
       "  'def',\n",
       "  'setup_scores',\n",
       "  'global',\n",
       "  'high_scores',\n",
       "  'high_scores',\n",
       "  'if',\n",
       "  'os.path.isfile',\n",
       "  \"'highscores.pkl\",\n",
       "  'with',\n",
       "  'open',\n",
       "  '``',\n",
       "  'highscores.pkl',\n",
       "  \"''\",\n",
       "  '``',\n",
       "  'rb',\n",
       "  \"''\",\n",
       "  'as',\n",
       "  'h',\n",
       "  'high_scores',\n",
       "  'pickle.load',\n",
       "  'h',\n",
       "  'else',\n",
       "  'high_scores',\n",
       "  '``',\n",
       "  'adam',\n",
       "  'smith',\n",
       "  \"''\",\n",
       "  '65536',\n",
       "  '``',\n",
       "  'john',\n",
       "  'doe',\n",
       "  \"''\",\n",
       "  '10000',\n",
       "  'def',\n",
       "  'save_score',\n",
       "  'name',\n",
       "  'score',\n",
       "  'new_score',\n",
       "  'name',\n",
       "  'score',\n",
       "  'if',\n",
       "  'new_score',\n",
       "  '0',\n",
       "  'in',\n",
       "  'high_scores',\n",
       "  'if',\n",
       "  'new_score',\n",
       "  '1',\n",
       "  'high_scores',\n",
       "  'new_score',\n",
       "  '0',\n",
       "  'high_scores',\n",
       "  'new_score',\n",
       "  '0',\n",
       "  'new_score',\n",
       "  '1',\n",
       "  'else',\n",
       "  'high_scores',\n",
       "  'new_score',\n",
       "  '0',\n",
       "  'new_score',\n",
       "  '1',\n",
       "  'with',\n",
       "  'open',\n",
       "  '``',\n",
       "  'highscores.pkl',\n",
       "  \"''\",\n",
       "  \"''\",\n",
       "  'wb',\n",
       "  \"''\",\n",
       "  'as',\n",
       "  'out',\n",
       "  'pickle.dump',\n",
       "  'high_scores',\n",
       "  'out',\n",
       "  'def',\n",
       "  'print_scores',\n",
       "  'for',\n",
       "  'name',\n",
       "  'score',\n",
       "  'in',\n",
       "  'high_scores.items',\n",
       "  'print',\n",
       "  '``',\n",
       "  'name',\n",
       "  'col_width',\n",
       "  'score',\n",
       "  'col_width',\n",
       "  \"''\",\n",
       "  '.format',\n",
       "  'col_width=',\n",
       "  '80-3',\n",
       "  '//2',\n",
       "  '.format',\n",
       "  'name=name',\n",
       "  'score=score',\n",
       "  'setup_scores',\n",
       "  'save_score',\n",
       "  'raw_input',\n",
       "  \"'name\",\n",
       "  'raw_input',\n",
       "  \"'score\",\n",
       "  'inputs',\n",
       "  'only',\n",
       "  'for',\n",
       "  'testing',\n",
       "  'can',\n",
       "  'use',\n",
       "  'variables',\n",
       "  'instead',\n",
       "  'print_scores'],\n",
       " 'codereview']"
      ]
     },
     "execution_count": 48,
     "metadata": {},
     "output_type": "execute_result"
    }
   ],
   "source": [
    "doc_feat_list[0]"
   ]
  },
  {
   "cell_type": "markdown",
   "metadata": {},
   "source": [
    "Let's suffle the list so we don't miss some channels in training due to the train/test split."
   ]
  },
  {
   "cell_type": "code",
   "execution_count": 49,
   "metadata": {},
   "outputs": [],
   "source": [
    "random.shuffle(doc_feat_list)\n",
    "random.shuffle(doc_feat_list)"
   ]
  },
  {
   "cell_type": "code",
   "execution_count": 50,
   "metadata": {},
   "outputs": [],
   "source": [
    "featuresets = [(document_features(d, word_features), c) for (d, c) in doc_feat_list]"
   ]
  },
  {
   "cell_type": "code",
   "execution_count": 58,
   "metadata": {},
   "outputs": [],
   "source": [
    "split = int(np.floor(len(featuresets)*.8))\n",
    "train_set = featuresets[:split]\n",
    "test_set = featuresets[split:]"
   ]
  },
  {
   "cell_type": "code",
   "execution_count": 59,
   "metadata": {},
   "outputs": [
    {
     "data": {
      "text/plain": [
       "214340"
      ]
     },
     "execution_count": 59,
     "metadata": {},
     "output_type": "execute_result"
    }
   ],
   "source": [
    "len(train_set)"
   ]
  },
  {
   "cell_type": "code",
   "execution_count": 60,
   "metadata": {},
   "outputs": [
    {
     "data": {
      "text/plain": [
       "53585"
      ]
     },
     "execution_count": 60,
     "metadata": {},
     "output_type": "execute_result"
    }
   ],
   "source": [
    "len(test_set)"
   ]
  },
  {
   "cell_type": "code",
   "execution_count": 61,
   "metadata": {},
   "outputs": [],
   "source": [
    "classifier = nltk.NaiveBayesClassifier.train(train_set)"
   ]
  },
  {
   "cell_type": "code",
   "execution_count": 62,
   "metadata": {},
   "outputs": [
    {
     "data": {
      "text/plain": [
       "0.7966035271064663"
      ]
     },
     "execution_count": 62,
     "metadata": {},
     "output_type": "execute_result"
    }
   ],
   "source": [
    "nltk.classify.accuracy(classifier, test_set)"
   ]
  },
  {
   "cell_type": "code",
   "execution_count": 70,
   "metadata": {},
   "outputs": [],
   "source": [
    "predicted_labels = classifier.classify_many([x for (x,l) in test_set])\n",
    "true_labels = [c for (x,c) in test_set]\n",
    "cm = confusion_matrix(y_pred=predicted_labels,y_true=true_labels)"
   ]
  },
  {
   "cell_type": "code",
   "execution_count": 71,
   "metadata": {},
   "outputs": [
    {
     "name": "stdout",
     "output_type": "stream",
     "text": [
      "[[ 2397    23    35     1     0    53   267   990     5   435]\n",
      " [    1  1160    26     0     4    16    10    33     5    71]\n",
      " [    3   170 18915  1352     0    51    10    90    40    12]\n",
      " [    0    13   411  1670     0    12     5    37     2     0]\n",
      " [    1     7     1     0  2280     4     0     0     0     0]\n",
      " [    0    11     0     0     1  4497     0     1     1     9]\n",
      " [  310    49    30    15     0    28  3006  1227     3   509]\n",
      " [  581    99    71    30     0    49   799  4019    49   653]\n",
      " [   57    30   204    23     1    15     5   233  3400    68]\n",
      " [  388    66    30     5     0    22   391   627    13  1342]]\n"
     ]
    }
   ],
   "source": [
    "print(cm)"
   ]
  },
  {
   "cell_type": "code",
   "execution_count": 74,
   "metadata": {},
   "outputs": [
    {
     "data": {
      "text/plain": [
       "array(['askubuntu', 'codereview', 'math', 'physics', 'pt', 'ru',\n",
       "       'serverfault', 'superuser', 'tex', 'unix'], dtype='<U11')"
      ]
     },
     "execution_count": 74,
     "metadata": {},
     "output_type": "execute_result"
    }
   ],
   "source": [
    "np.unique(true_labels)"
   ]
  },
  {
   "cell_type": "code",
   "execution_count": 75,
   "metadata": {},
   "outputs": [],
   "source": [
    "cm = confusion_matrix(y_pred=predicted_labels,y_true=true_labels,labels=['askubuntu','codereview','math','physics','pt','ru','serverfault','superuser','tex','unix'])"
   ]
  },
  {
   "cell_type": "code",
   "execution_count": 76,
   "metadata": {},
   "outputs": [
    {
     "name": "stdout",
     "output_type": "stream",
     "text": [
      "[[ 2397    23    35     1     0    53   267   990     5   435]\n",
      " [    1  1160    26     0     4    16    10    33     5    71]\n",
      " [    3   170 18915  1352     0    51    10    90    40    12]\n",
      " [    0    13   411  1670     0    12     5    37     2     0]\n",
      " [    1     7     1     0  2280     4     0     0     0     0]\n",
      " [    0    11     0     0     1  4497     0     1     1     9]\n",
      " [  310    49    30    15     0    28  3006  1227     3   509]\n",
      " [  581    99    71    30     0    49   799  4019    49   653]\n",
      " [   57    30   204    23     1    15     5   233  3400    68]\n",
      " [  388    66    30     5     0    22   391   627    13  1342]]\n"
     ]
    }
   ],
   "source": [
    "print(cm)"
   ]
  },
  {
   "cell_type": "code",
   "execution_count": 72,
   "metadata": {},
   "outputs": [],
   "source": [
    "import matplotlib.pyplot as plt\n",
    "import numpy as np\n",
    "import itertools\n",
    "def plot_confusion_matrix(cm, classes,\n",
    "                          normalize=False,\n",
    "                          title='Confusion matrix',\n",
    "                          cmap=plt.cm.Blues):\n",
    "    \"\"\"\n",
    "    This function prints and plots the confusion matrix.\n",
    "    Normalization can be applied by setting `normalize=True`.\n",
    "    \"\"\"\n",
    "    if normalize:\n",
    "        cm = cm.astype('float') / cm.sum(axis=1)[:, np.newaxis]\n",
    "        print(\"Normalized confusion matrix\")\n",
    "    else:\n",
    "        print('Confusion matrix, without normalization')\n",
    "\n",
    "    print(cm)\n",
    "\n",
    "    plt.imshow(cm, interpolation='nearest', cmap=cmap)\n",
    "    plt.title(title)\n",
    "    plt.colorbar()\n",
    "    tick_marks = np.arange(len(classes))\n",
    "    plt.xticks(tick_marks, classes, rotation=45)\n",
    "    plt.yticks(tick_marks, classes)\n",
    "\n",
    "    fmt = '.2f' if normalize else 'd'\n",
    "    thresh = cm.max() / 2.\n",
    "    for i, j in itertools.product(range(cm.shape[0]), range(cm.shape[1])):\n",
    "        plt.text(j, i, format(cm[i, j], fmt),\n",
    "                 horizontalalignment=\"center\",\n",
    "                 color=\"white\" if cm[i, j] > thresh else \"black\")\n",
    "\n",
    "    plt.tight_layout()\n",
    "    plt.ylabel('True label')\n",
    "    plt.xlabel('Predicted label')"
   ]
  },
  {
   "cell_type": "code",
   "execution_count": 77,
   "metadata": {},
   "outputs": [
    {
     "name": "stdout",
     "output_type": "stream",
     "text": [
      "Confusion matrix, without normalization\n",
      "[[ 2397    23    35     1     0    53   267   990     5   435]\n",
      " [    1  1160    26     0     4    16    10    33     5    71]\n",
      " [    3   170 18915  1352     0    51    10    90    40    12]\n",
      " [    0    13   411  1670     0    12     5    37     2     0]\n",
      " [    1     7     1     0  2280     4     0     0     0     0]\n",
      " [    0    11     0     0     1  4497     0     1     1     9]\n",
      " [  310    49    30    15     0    28  3006  1227     3   509]\n",
      " [  581    99    71    30     0    49   799  4019    49   653]\n",
      " [   57    30   204    23     1    15     5   233  3400    68]\n",
      " [  388    66    30     5     0    22   391   627    13  1342]]\n"
     ]
    },
    {
     "data": {
      "image/png": "[encoded data removed]",
      "text/plain": [
       "<Figure size 720x720 with 2 Axes>"
      ]
     },
     "metadata": {
      "needs_background": "light"
     },
     "output_type": "display_data"
    }
   ],
   "source": [
    "plt.figure(figsize=(10,10))\n",
    "plot_confusion_matrix(cm,normalize=False,classes=['askubuntu','codereview','math','physics','pt','ru','serverfault','superuser','tex','unix'],title=\"Unfiltered BoW Approach\")\n",
    "plt.savefig('raw_BoW_cm.jpg')"
   ]
  },
  {
   "cell_type": "code",
   "execution_count": 78,
   "metadata": {},
   "outputs": [
    {
     "name": "stdout",
     "output_type": "stream",
     "text": [
      "Unfiltered BoW Classification Report\n",
      "\n",
      "              precision    recall  f1-score   support\n",
      "\n",
      "   askubuntu       0.64      0.57      0.60      4206\n",
      "  codereview       0.71      0.87      0.79      1326\n",
      "        math       0.96      0.92      0.94     20643\n",
      "     physics       0.54      0.78      0.64      2150\n",
      "          pt       1.00      0.99      1.00      2293\n",
      "          ru       0.95      0.99      0.97      4520\n",
      " serverfault       0.67      0.58      0.62      5177\n",
      "   superuser       0.55      0.63      0.59      6350\n",
      "         tex       0.97      0.84      0.90      4036\n",
      "        unix       0.43      0.47      0.45      2884\n",
      "\n",
      "   micro avg       0.80      0.80      0.80     53585\n",
      "   macro avg       0.74      0.76      0.75     53585\n",
      "weighted avg       0.81      0.80      0.80     53585\n",
      "\n"
     ]
    }
   ],
   "source": [
    "print('Unfiltered BoW Classification Report\\n')\n",
    "print(classification_report(true_labels,predicted_labels,target_names=['askubuntu','codereview','math','physics','pt','ru','serverfault','superuser','tex','unix']))"
   ]
  },
  {
   "cell_type": "code",
   "execution_count": null,
   "metadata": {},
   "outputs": [],
   "source": []
  }
 ],
 "metadata": {
  "kernelspec": {
   "display_name": "Python 3",
   "language": "python",
   "name": "python3"
  },
  "language_info": {
   "codemirror_mode": {
    "name": "ipython",
    "version": 3
   },
   "file_extension": ".py",
   "mimetype": "text/x-python",
   "name": "python",
   "nbconvert_exporter": "python",
   "pygments_lexer": "ipython3",
   "version": "3.6.7"
  }
 },
 "nbformat": 4,
 "nbformat_minor": 2
}
