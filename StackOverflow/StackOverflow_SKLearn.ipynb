{
 "cells": [
  {
   "cell_type": "code",
   "execution_count": 87,
   "metadata": {},
   "outputs": [],
   "source": [
    "import nltk\n",
    "from nltk.corpus import stopwords\n",
    "from sklearn.ensemble import RandomForestClassifier\n",
    "from sklearn.pipeline import Pipeline\n",
    "from sklearn.feature_extraction.text import CountVectorizer\n",
    "from sklearn.model_selection import cross_validate, cross_val_predict, cross_val_score\n",
    "from nltk.tokenize import TreebankWordTokenizer,RegexpTokenizer\n",
    "from sklearn.metrics import confusion_matrix, classification_report\n",
    "from string import punctuation, digits\n",
    "import pandas as pd\n",
    "import altair as alt\n",
    "eng_stopwords = set(stopwords.words('english'))"
   ]
  },
  {
   "cell_type": "code",
   "execution_count": 82,
   "metadata": {},
   "outputs": [],
   "source": [
    "import matplotlib.pyplot as plt\n",
    "import numpy as np\n",
    "import itertools\n",
    "def plot_confusion_matrix(cm, classes,\n",
    "                          normalize=False,\n",
    "                          title='Confusion matrix',\n",
    "                          cmap=plt.cm.Blues):\n",
    "    \"\"\"\n",
    "    This function prints and plots the confusion matrix.\n",
    "    Normalization can be applied by setting `normalize=True`.\n",
    "    \"\"\"\n",
    "    if normalize:\n",
    "        cm = cm.astype('float') / cm.sum(axis=1)[:, np.newaxis]\n",
    "        print(\"Normalized confusion matrix\")\n",
    "    else:\n",
    "        print('Confusion matrix, without normalization')\n",
    "\n",
    "    print(cm)\n",
    "\n",
    "    plt.imshow(cm, interpolation='nearest', cmap=cmap)\n",
    "    plt.title(title)\n",
    "    plt.colorbar()\n",
    "    tick_marks = np.arange(len(classes))\n",
    "    plt.xticks(tick_marks, classes, rotation=45)\n",
    "    plt.yticks(tick_marks, classes)\n",
    "\n",
    "    fmt = '.2f' if normalize else 'd'\n",
    "    thresh = cm.max() / 2.\n",
    "    for i, j in itertools.product(range(cm.shape[0]), range(cm.shape[1])):\n",
    "        plt.text(j, i, format(cm[i, j], fmt),\n",
    "                 horizontalalignment=\"center\",\n",
    "                 color=\"white\" if cm[i, j] > thresh else \"black\")\n",
    "\n",
    "    plt.tight_layout()\n",
    "    plt.ylabel('True label')\n",
    "    plt.xlabel('Predicted label')"
   ]
  },
  {
   "cell_type": "markdown",
   "metadata": {},
   "source": [
    "# Load the data\n",
    "Load the data from the top_10_channels_sampled.pickle file so we are working on the same dataset as the NLTK notebook"
   ]
  },
  {
   "cell_type": "code",
   "execution_count": 3,
   "metadata": {},
   "outputs": [],
   "source": [
    "sampled_df = pd.read_pickle('top_10_channels_sampled.pickle')"
   ]
  },
  {
   "cell_type": "code",
   "execution_count": 4,
   "metadata": {},
   "outputs": [
    {
     "name": "stdout",
     "output_type": "stream",
     "text": [
      "<class 'pandas.core.frame.DataFrame'>\n",
      "RangeIndex: 267925 entries, 0 to 267924\n",
      "Data columns (total 5 columns):\n",
      "index       267925 non-null int64\n",
      "Id          267925 non-null object\n",
      "answer      267925 non-null object\n",
      "channel     267925 non-null object\n",
      "question    267925 non-null object\n",
      "dtypes: int64(1), object(4)\n",
      "memory usage: 10.2+ MB\n"
     ]
    }
   ],
   "source": [
    "sampled_df.info()"
   ]
  },
  {
   "cell_type": "code",
   "execution_count": 18,
   "metadata": {},
   "outputs": [
    {
     "data": {
      "application/vnd.vegalite.v2+json": {
       "$schema": "https://vega.github.io/schema/vega-lite/v2.4.3.json",
       "config": {
        "view": {
         "height": 300,
         "width": 400
        }
       },
       "data": {
        "values": [
         {
          "channel": 103974,
          "index": "math"
         },
         {
          "channel": 32244,
          "index": "superuser"
         },
         {
          "channel": 25851,
          "index": "serverfault"
         },
         {
          "channel": 22554,
          "index": "ru"
         },
         {
          "channel": 20526,
          "index": "askubuntu"
         },
         {
          "channel": 20034,
          "index": "tex"
         },
         {
          "channel": 14313,
          "index": "unix"
         },
         {
          "channel": 11438,
          "index": "pt"
         },
         {
          "channel": 10569,
          "index": "physics"
         },
         {
          "channel": 6422,
          "index": "codereview"
         }
        ]
       },
       "encoding": {
        "x": {
         "field": "channel",
         "title": "Count of Questions",
         "type": "quantitative"
        },
        "y": {
         "field": "index",
         "sort": {
          "field": "channel",
          "op": "values",
          "order": "ascending"
         },
         "title": "channel",
         "type": "nominal"
        }
       },
       "height": 400,
       "mark": "bar",
       "width": 600
      },
      "image/png": "[encoded data removed]",
      "text/plain": [
       "<VegaLite 2 object>\n",
       "\n",
       "If you see this message, it means the renderer has not been properly enabled\n",
       "for the frontend that you are using. For more information, see\n",
       "https://altair-viz.github.io/user_guide/troubleshooting.html\n"
      ]
     },
     "execution_count": 18,
     "metadata": {},
     "output_type": "execute_result"
    }
   ],
   "source": [
    "alt.Chart(pd.DataFrame(sampled_df['channel'].value_counts()).reset_index(),height=400,width=600).mark_bar().encode(y=alt.Y('index',title=\"channel\",sort=alt.SortField(field='channel',order='ascending',op='values')),x=alt.X('channel',title=\"Count of Questions\"))"
   ]
  },
  {
   "cell_type": "markdown",
   "metadata": {},
   "source": [
    "# Define the function for tokenization"
   ]
  },
  {
   "cell_type": "code",
   "execution_count": 45,
   "metadata": {},
   "outputs": [],
   "source": [
    "def tokenize(doc):\n",
    "    doc = ' '.join(RegexpTokenizer(pattern=r'\\b[^\\d\\W^_]+\\b').tokenize(doc))\n",
    "    doc = TreebankWordTokenizer().tokenize(doc)\n",
    "    doc = [term for term in doc if term not in punctuation]\n",
    "    doc = [term for term in doc if len(term) > 2]\n",
    "    return doc"
   ]
  },
  {
   "cell_type": "markdown",
   "metadata": {},
   "source": [
    "## Test the vectorizer outside of the pipeline\n",
    "This will let us discover how many features it produces and what parameters are suitable. The specific features tested are the custom tokenizer, and the min_df settings.<br>\n",
    "The min_df setting is specifically sensitive as it will not include features that don't appear in x% of the documents. With 268k documents this number should be really small, but not small enough where a word in one document is considered useful. The threshold of .05% was selected after many runs and provides almost eight thousand features."
   ]
  },
  {
   "cell_type": "code",
   "execution_count": 55,
   "metadata": {},
   "outputs": [],
   "source": [
    "vectorizer = CountVectorizer(binary=True,\n",
    "                            encoding='utf-8',\n",
    "                            stop_words=eng_stopwords,\n",
    "                            lowercase=True,\n",
    "                            #ngram_range=(2,2),\n",
    "                            min_df=.0005,\n",
    "                            #max_df=.20,\n",
    "                            #norm='l2',\n",
    "                            #use_idf=True,\n",
    "                            strip_accents='unicode',\n",
    "                            tokenizer=tokenize,\n",
    "                            )\n",
    "vectorized = vectorizer.fit_transform(sampled_df['question'])"
   ]
  },
  {
   "cell_type": "code",
   "execution_count": 56,
   "metadata": {},
   "outputs": [
    {
     "data": {
      "text/plain": [
       "7953"
      ]
     },
     "execution_count": 56,
     "metadata": {},
     "output_type": "execute_result"
    }
   ],
   "source": [
    "len(vectorizer.get_feature_names())"
   ]
  },
  {
   "cell_type": "markdown",
   "metadata": {},
   "source": [
    "### Ensure the features are sane\n",
    "We can examine the features returned by the vectorizer and confirm that these features are indeed real words, not nonsense programming and formatting, and we also ensure that the Russian text is intact. I had speculated that the Russian text would be eliminated because NLP tokenizers are focused on english text and that the RegExpTokenizer or TreeBankWordTokenizer functions might eliminate them. Thankfully, i was wrong."
   ]
  },
  {
   "cell_type": "code",
   "execution_count": 76,
   "metadata": {},
   "outputs": [
    {
     "data": {
      "text/plain": [
       "['формы',\n",
       " 'фрагмент',\n",
       " 'функции',\n",
       " 'функцию',\n",
       " 'функция',\n",
       " 'хорошо',\n",
       " 'хотел',\n",
       " 'хотелось',\n",
       " 'хотя',\n",
       " 'хочет',\n",
       " 'хочется',\n",
       " 'хочу',\n",
       " 'хранится',\n",
       " 'хранить',\n",
       " 'цвет',\n",
       " 'цикл',\n",
       " 'цикла',\n",
       " 'цикле',\n",
       " 'цифры',\n",
       " 'части',\n",
       " 'часть',\n",
       " 'чего',\n",
       " 'чем',\n",
       " 'через',\n",
       " 'чисел',\n",
       " 'числа',\n",
       " 'число',\n",
       " 'что',\n",
       " 'чтоб',\n",
       " 'чтобы',\n",
       " 'шаблон',\n",
       " 'экран',\n",
       " 'экрана',\n",
       " 'элемент',\n",
       " 'элемента',\n",
       " 'элементов',\n",
       " 'элементы',\n",
       " 'эта',\n",
       " 'эти',\n",
       " 'этим',\n",
       " 'этих',\n",
       " 'это',\n",
       " 'этого',\n",
       " 'этои',\n",
       " 'этом',\n",
       " 'этому',\n",
       " 'этот',\n",
       " 'эту',\n",
       " 'является',\n",
       " 'язык']"
      ]
     },
     "execution_count": 76,
     "metadata": {},
     "output_type": "execute_result"
    }
   ],
   "source": [
    "vectorizer.get_feature_names()[-50:]"
   ]
  },
  {
   "cell_type": "code",
   "execution_count": 78,
   "metadata": {},
   "outputs": [],
   "source": [
    "rf_pipe = Pipeline([('vector',CountVectorizer(binary=True,\n",
    "                                                      encoding='utf-8',\n",
    "                                                      stop_words=eng_stopwords,\n",
    "                                                      lowercase=True,\n",
    "                                                      #ngram_range=(2,2),\n",
    "                                                      min_df=.0005,\n",
    "                                                      #max_df=.20,\n",
    "                                                      #norm='l2',\n",
    "                                                      #use_idf=True,\n",
    "                                                      strip_accents='unicode',\n",
    "                                                      tokenizer=tokenize,\n",
    "                                                      )),\n",
    "                     ('rf',RandomForestClassifier())\n",
    "                    ])"
   ]
  },
  {
   "cell_type": "code",
   "execution_count": 79,
   "metadata": {},
   "outputs": [
    {
     "name": "stderr",
     "output_type": "stream",
     "text": [
      "C:\\Anaconda3\\lib\\site-packages\\sklearn\\ensemble\\forest.py:248: FutureWarning: The default value of n_estimators will change from 10 in version 0.20 to 100 in 0.22.\n",
      "  \"10 in version 0.20 to 100 in 0.22.\", FutureWarning)\n",
      "C:\\Anaconda3\\lib\\site-packages\\sklearn\\ensemble\\forest.py:248: FutureWarning: The default value of n_estimators will change from 10 in version 0.20 to 100 in 0.22.\n",
      "  \"10 in version 0.20 to 100 in 0.22.\", FutureWarning)\n",
      "C:\\Anaconda3\\lib\\site-packages\\sklearn\\ensemble\\forest.py:248: FutureWarning: The default value of n_estimators will change from 10 in version 0.20 to 100 in 0.22.\n",
      "  \"10 in version 0.20 to 100 in 0.22.\", FutureWarning)\n",
      "C:\\Anaconda3\\lib\\site-packages\\sklearn\\ensemble\\forest.py:248: FutureWarning: The default value of n_estimators will change from 10 in version 0.20 to 100 in 0.22.\n",
      "  \"10 in version 0.20 to 100 in 0.22.\", FutureWarning)\n",
      "C:\\Anaconda3\\lib\\site-packages\\sklearn\\ensemble\\forest.py:248: FutureWarning: The default value of n_estimators will change from 10 in version 0.20 to 100 in 0.22.\n",
      "  \"10 in version 0.20 to 100 in 0.22.\", FutureWarning)\n"
     ]
    }
   ],
   "source": [
    "scores = cross_val_score(rf_pipe,X=sampled_df['question'],y=sampled_df['channel'],cv=5)"
   ]
  },
  {
   "cell_type": "code",
   "execution_count": 80,
   "metadata": {},
   "outputs": [
    {
     "name": "stdout",
     "output_type": "stream",
     "text": [
      "Sores for each fold:\n",
      "--------------------------------------------------------------------------------\n",
      "[0.81141652 0.81152145 0.81075281 0.80983129 0.81132533]\n",
      "Mean Score: 0.811\n"
     ]
    }
   ],
   "source": [
    "print('Sores for each fold:\\n{}\\n{}\\nMean Score: {:.3f}'.format('-'*80,scores,scores.mean()))"
   ]
  },
  {
   "cell_type": "code",
   "execution_count": 81,
   "metadata": {},
   "outputs": [
    {
     "name": "stderr",
     "output_type": "stream",
     "text": [
      "C:\\Anaconda3\\lib\\site-packages\\sklearn\\ensemble\\forest.py:248: FutureWarning: The default value of n_estimators will change from 10 in version 0.20 to 100 in 0.22.\n",
      "  \"10 in version 0.20 to 100 in 0.22.\", FutureWarning)\n",
      "C:\\Anaconda3\\lib\\site-packages\\sklearn\\ensemble\\forest.py:248: FutureWarning: The default value of n_estimators will change from 10 in version 0.20 to 100 in 0.22.\n",
      "  \"10 in version 0.20 to 100 in 0.22.\", FutureWarning)\n",
      "C:\\Anaconda3\\lib\\site-packages\\sklearn\\ensemble\\forest.py:248: FutureWarning: The default value of n_estimators will change from 10 in version 0.20 to 100 in 0.22.\n",
      "  \"10 in version 0.20 to 100 in 0.22.\", FutureWarning)\n",
      "C:\\Anaconda3\\lib\\site-packages\\sklearn\\ensemble\\forest.py:248: FutureWarning: The default value of n_estimators will change from 10 in version 0.20 to 100 in 0.22.\n",
      "  \"10 in version 0.20 to 100 in 0.22.\", FutureWarning)\n",
      "C:\\Anaconda3\\lib\\site-packages\\sklearn\\ensemble\\forest.py:248: FutureWarning: The default value of n_estimators will change from 10 in version 0.20 to 100 in 0.22.\n",
      "  \"10 in version 0.20 to 100 in 0.22.\", FutureWarning)\n"
     ]
    }
   ],
   "source": [
    "y_pred = cross_val_predict(rf_pipe,X=sampled_df['question'],y=sampled_df['channel'],cv=5)"
   ]
  },
  {
   "cell_type": "code",
   "execution_count": 83,
   "metadata": {},
   "outputs": [],
   "source": [
    "rf_cm = confusion_matrix(y_true=sampled_df['channel'],y_pred=y_pred)"
   ]
  },
  {
   "cell_type": "code",
   "execution_count": 86,
   "metadata": {},
   "outputs": [
    {
     "name": "stdout",
     "output_type": "stream",
     "text": [
      "Confusion matrix, without normalization\n",
      "[[ 13083     42    588     25      3     25   1802   3747    108   1103]\n",
      " [    73   5303    396      3      8     88    196    203     65     87]\n",
      " [    70    123 102703    473      2     43     84    332    115     29]\n",
      " [    48      9   4322   5923      0     14     30    188     27      8]\n",
      " [     8     17     15      0  11354     22      9     10      0      3]\n",
      " [    36     97     51      5      5  22253     39     47      5     16]\n",
      " [  2224     99   1004     37      1     20  16977   4354     73   1062]\n",
      " [  3909    156   2078    118      4     26   5100  18871    380   1602]\n",
      " [   226     47   1533     28      2      6     90    706  17297     99]\n",
      " [  2859    122    686     17      1     15   2831   3839    157   3786]]\n"
     ]
    },
    {
     "data": {
      "image/png": "[encoded data removed]",
      "text/plain": [
       "<Figure size 720x720 with 2 Axes>"
      ]
     },
     "metadata": {
      "needs_background": "light"
     },
     "output_type": "display_data"
    }
   ],
   "source": [
    "plt.figure(figsize=(10,10))\n",
    "plot_confusion_matrix(rf_cm,normalize=False,classes=['askubuntu','codereview','math','physics','pt','ru','serverfault','superuser','tex','unix'],title=\"SKLearn Random Forest\")\n",
    "plt.savefig('sklearn_rf_cm.jpg')"
   ]
  },
  {
   "cell_type": "code",
   "execution_count": 88,
   "metadata": {},
   "outputs": [
    {
     "name": "stdout",
     "output_type": "stream",
     "text": [
      "              precision    recall  f1-score   support\n",
      "\n",
      "   askubuntu       0.58      0.64      0.61     20526\n",
      "  codereview       0.88      0.83      0.85      6422\n",
      "        math       0.91      0.99      0.95    103974\n",
      "     physics       0.89      0.56      0.69     10569\n",
      "          pt       1.00      0.99      1.00     11438\n",
      "          ru       0.99      0.99      0.99     22554\n",
      " serverfault       0.63      0.66      0.64     25851\n",
      "   superuser       0.58      0.59      0.58     32244\n",
      "         tex       0.95      0.86      0.90     20034\n",
      "        unix       0.49      0.26      0.34     14313\n",
      "\n",
      "   micro avg       0.81      0.81      0.81    267925\n",
      "   macro avg       0.79      0.74      0.75    267925\n",
      "weighted avg       0.81      0.81      0.80    267925\n",
      "\n"
     ]
    }
   ],
   "source": [
    "print(classification_report(y_true=sampled_df['channel'],y_pred=y_pred))"
   ]
  },
  {
   "cell_type": "markdown",
   "metadata": {},
   "source": [
    "## Fit the model outside of a CV to check feature importances"
   ]
  },
  {
   "cell_type": "code",
   "execution_count": 92,
   "metadata": {},
   "outputs": [
    {
     "name": "stderr",
     "output_type": "stream",
     "text": [
      "C:\\Anaconda3\\lib\\site-packages\\sklearn\\ensemble\\forest.py:248: FutureWarning: The default value of n_estimators will change from 10 in version 0.20 to 100 in 0.22.\n",
      "  \"10 in version 0.20 to 100 in 0.22.\", FutureWarning)\n"
     ]
    }
   ],
   "source": [
    "model = rf_pipe.fit(X=sampled_df['question'],y=sampled_df['channel'])"
   ]
  },
  {
   "cell_type": "code",
   "execution_count": 95,
   "metadata": {},
   "outputs": [],
   "source": [
    "importances = model.named_steps['rf'].feature_importances_\n",
    "indices = np.argsort(importances)[::-1]"
   ]
  },
  {
   "cell_type": "markdown",
   "metadata": {},
   "source": [
    "### Print the top 50 important features"
   ]
  },
  {
   "cell_type": "code",
   "execution_count": 100,
   "metadata": {},
   "outputs": [
    {
     "name": "stdout",
     "output_type": "stream",
     "text": [
      "server\n",
      "ubuntu\n",
      "usepackage\n",
      "mathbb\n",
      "windows\n",
      "есть\n",
      "documentclass\n",
      "frac\n",
      "uma\n",
      "running\n",
      "как\n",
      "file\n",
      "command\n",
      "можно\n",
      "document\n",
      "infty\n",
      "let\n",
      "для\n",
      "latex\n",
      "end\n",
      "что\n",
      "linux\n",
      "сделать\n",
      "prove\n",
      "para\n",
      "proof\n",
      "все\n",
      "return\n",
      "нужно\n",
      "como\n",
      "energy\n",
      "code\n",
      "package\n",
      "mas\n",
      "files\n",
      "user\n",
      "installed\n",
      "com\n",
      "install\n",
      "tex\n",
      "que\n",
      "если\n",
      "rightarrow\n",
      "directory\n",
      "при\n",
      "код\n",
      "так\n",
      "output\n",
      "else\n",
      "estou\n"
     ]
    }
   ],
   "source": [
    "for x in indices[:50]:\n",
    "    print(model.named_steps['vector'].get_feature_names()[x])"
   ]
  },
  {
   "cell_type": "code",
   "execution_count": null,
   "metadata": {},
   "outputs": [],
   "source": []
  }
 ],
 "metadata": {
  "kernelspec": {
   "display_name": "Python 3",
   "language": "python",
   "name": "python3"
  },
  "language_info": {
   "codemirror_mode": {
    "name": "ipython",
    "version": 3
   },
   "file_extension": ".py",
   "mimetype": "text/x-python",
   "name": "python",
   "nbconvert_exporter": "python",
   "pygments_lexer": "ipython3",
   "version": "3.6.7"
  }
 },
 "nbformat": 4,
 "nbformat_minor": 2
}
